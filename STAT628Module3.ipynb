{
 "cells": [
  {
   "cell_type": "code",
   "execution_count": 4,
   "id": "79cb2c8a",
   "metadata": {},
   "outputs": [],
   "source": [
    "#!pip install widgetsnbextension\n",
    "#!pip install ipywidgets\n",
    "#!pip install voila"
   ]
  },
  {
   "cell_type": "code",
   "execution_count": 5,
   "id": "46453166",
   "metadata": {},
   "outputs": [],
   "source": [
    "#!jupyter nbextension enable --py widgetsnbextension --sys-prefix\n",
    "#!jupyter serverextension enable voila --sys-prefix"
   ]
  },
  {
   "cell_type": "code",
   "execution_count": 4,
   "id": "5f34766a",
   "metadata": {},
   "outputs": [],
   "source": [
    "import ipywidgets as widgets\n",
    "from IPython.display import display, clear_output"
   ]
  },
  {
   "cell_type": "code",
   "execution_count": 5,
   "id": "1dc239f6",
   "metadata": {},
   "outputs": [],
   "source": [
    "header = widgets.HTML(value='The basic information:<br>\\\n",
    "Business ID: 4CxF8c3MB7VAdY8zFb2cZQ<br>\\\n",
    "Name: Voodoo Doughnut - Old Town<br>\\\n",
    "Location: 22 SW 3rd Ave, Portland, OR<br>\\\n",
    "Open Hours: 8:00-21:00 Tuesday-Sunday, 0:00-0:00 Monday')"
   ]
  },
  {
   "cell_type": "code",
   "execution_count": 6,
   "id": "4730da51",
   "metadata": {},
   "outputs": [],
   "source": [
    "title = widgets.HTML(value='Histogram: The star distributions of this bakery (review stars)')"
   ]
  },
  {
   "cell_type": "code",
   "execution_count": 13,
   "id": "65c48c57",
   "metadata": {},
   "outputs": [],
   "source": [
    "file = open(\"./Histogram.png\", \"rb\")\n",
    "image = file.read()\n",
    "histogram = widgets.Image(value=image,format='png')\n",
    "file.close()"
   ]
  },
  {
   "cell_type": "code",
   "execution_count": 23,
   "id": "a936b20d",
   "metadata": {},
   "outputs": [],
   "source": [
    "explanation = widgets.HTML(value='Bad reviews: By checking the useful bad reviews manually, we see that most of the reviews mention the word \"overrated\". They also mention that the doughnuts are unconventional and interesting but do not taste very good. Some of the reviews stated that the shop is touristic and worth the long wait in line.')"
   ]
  },
  {
   "cell_type": "code",
   "execution_count": 19,
   "id": "48e003c9",
   "metadata": {},
   "outputs": [],
   "source": [
    "file = open(\"./BoxPlotTV.png\", \"rb\")\n",
    "image = file.read()\n",
    "boxPlotTV = widgets.Image(value=image,format='png',width=259,height=259,)\n",
    "file.close()\n",
    "\n",
    "file = open(\"./BoxPlotNoise.png\", \"rb\")\n",
    "image = file.read()\n",
    "boxPlotNoise = widgets.Image(value=image,format='png',width=259,height=259,)\n",
    "file.close()\n",
    "\n",
    "file = open(\"./BoxPlotGroups.png\", \"rb\")\n",
    "image = file.read()\n",
    "boxPlotGroups = widgets.Image(value=image,format='png',width=259,height=259,)\n",
    "file.close()\n",
    "\n",
    "file = open(\"./BoxPlotPrice.png\", \"rb\")\n",
    "image = file.read()\n",
    "boxPlotPrice = widgets.Image(value=image,format='png',width=259,height=259,)\n",
    "file.close()\n",
    "\n",
    "file = open(\"./BoxPlotStreet.png\", \"rb\")\n",
    "image = file.read()\n",
    "boxPlotStreet = widgets.Image(value=image,format='png',width=259,height=259,)\n",
    "file.close()"
   ]
  },
  {
   "cell_type": "code",
   "execution_count": 20,
   "id": "257271c9",
   "metadata": {},
   "outputs": [],
   "source": [
    "box = widgets.HBox([boxPlotTV, boxPlotNoise, boxPlotGroups, boxPlotPrice, boxPlotStreet])"
   ]
  },
  {
   "cell_type": "code",
   "execution_count": 22,
   "id": "890b34ef",
   "metadata": {},
   "outputs": [
    {
     "data": {
      "application/vnd.jupyter.widget-view+json": {
       "model_id": "60dbec398bb045af9827b1c7474852b6",
       "version_major": 2,
       "version_minor": 0
      },
      "text/plain": [
       "HTML(value='The basic information:<br>Business ID: 4CxF8c3MB7VAdY8zFb2cZQ<br>Name: Voodoo Doughnut - Old Town<…"
      ]
     },
     "metadata": {},
     "output_type": "display_data"
    },
    {
     "data": {
      "application/vnd.jupyter.widget-view+json": {
       "model_id": "4b9c3132562c4db38d82154bf70efc91",
       "version_major": 2,
       "version_minor": 0
      },
      "text/plain": [
       "HTML(value='Histogram: The star distributions of this bakery (review stars)')"
      ]
     },
     "metadata": {},
     "output_type": "display_data"
    },
    {
     "data": {
      "application/vnd.jupyter.widget-view+json": {
       "model_id": "78ccd950fb4d47e699f4ab98f0656f63",
       "version_major": 2,
       "version_minor": 0
      },
      "text/plain": [
       "Image(value=b'\\x89PNG\\r\\n\\x1a\\n\\x00\\x00\\x00\\rIHDR\\x00\\x00\\x01\\x03\\x00\\x00\\x01\\x03\\x08\\x06\\x00\\x00\\x001\\xd1a\\xc…"
      ]
     },
     "metadata": {},
     "output_type": "display_data"
    },
    {
     "data": {
      "application/vnd.jupyter.widget-view+json": {
       "model_id": "edda11ce75f840f2a34d4ec1a09af31a",
       "version_major": 2,
       "version_minor": 0
      },
      "text/plain": [
       "HTML(value='Bad reviews: Check the useful bad reviews manually, we can find most of the reviews mentioned a wo…"
      ]
     },
     "metadata": {},
     "output_type": "display_data"
    },
    {
     "data": {
      "application/vnd.jupyter.widget-view+json": {
       "model_id": "814f116e7a4845a8b8e49ad2e2cb0bf0",
       "version_major": 2,
       "version_minor": 0
      },
      "text/plain": [
       "HBox(children=(Image(value=b'\\x89PNG\\r\\n\\x1a\\n\\x00\\x00\\x00\\rIHDR\\x00\\x00\\x01n\\x00\\x00\\x01n\\x08\\x06\\x00\\x00\\x00…"
      ]
     },
     "metadata": {},
     "output_type": "display_data"
    }
   ],
   "source": [
    "display(header)\n",
    "display(title)\n",
    "display(histogram)\n",
    "display(explanation)\n",
    "display(box)"
   ]
  }
 ],
 "metadata": {
  "kernelspec": {
   "display_name": "Python 3 (ipykernel)",
   "language": "python",
   "name": "python3"
  },
  "language_info": {
   "codemirror_mode": {
    "name": "ipython",
    "version": 3
   },
   "file_extension": ".py",
   "mimetype": "text/x-python",
   "name": "python",
   "nbconvert_exporter": "python",
   "pygments_lexer": "ipython3",
   "version": "3.9.7"
  }
 },
 "nbformat": 4,
 "nbformat_minor": 5
}
