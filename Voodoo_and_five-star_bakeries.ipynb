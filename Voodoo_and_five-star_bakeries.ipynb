{
 "cells": [
  {
   "cell_type": "code",
   "execution_count": 42,
   "metadata": {},
   "outputs": [],
   "source": [
    "import pandas as p\n",
    "b = p.read_csv(\"bakery_business.csv\")"
   ]
  },
  {
   "cell_type": "code",
   "execution_count": 43,
   "metadata": {},
   "outputs": [],
   "source": [
    "b.loc[b.NoiseLevel == \"u'quiet'\", 'NoiseLevel'] = \"'quiet'\"\n",
    "b.loc[b.NoiseLevel == \"u'average'\", 'NoiseLevel'] = \"'average'\"\n",
    "b.loc[b.NoiseLevel == \"u'loud'\", 'NoiseLevel'] = \"'loud'\"\n",
    "b.loc[b.NoiseLevel == \"u'very_loud'\", 'NoiseLevel'] = \"'very_loud'\""
   ]
  },
  {
   "cell_type": "code",
   "execution_count": 44,
   "metadata": {},
   "outputs": [],
   "source": [
    "b.loc[b.Alcohol == \"u'beer_and_wine'\", 'Alcohol'] = \"'beer_and_wine'\"\n",
    "b.loc[b.Alcohol == \"u'full_bar'\", 'Alcohol'] = \"'full_bar'\"\n",
    "b.loc[b.Alcohol == \"u'none'\" , 'Alcohol'] = \"'none'\""
   ]
  },
  {
   "cell_type": "code",
   "execution_count": 45,
   "metadata": {},
   "outputs": [],
   "source": [
    "b.loc[b.RestaurantsAttire == \"u'casual'\", 'RestaurantsAttire'] = \"'casual'\"\n",
    "b.loc[b.RestaurantsAttire == \"u'dressy'\", 'RestaurantsAttire'] = \"'dressy'\"\n",
    "b.loc[b.RestaurantsAttire == \"u'formal'\", 'RestaurantsAttire'] = \"'formal'\""
   ]
  },
  {
   "cell_type": "code",
   "execution_count": 46,
   "metadata": {},
   "outputs": [],
   "source": [
    "b.loc[b.WiFi == \"u'free'\", 'WiFi'] = \"'free'\"\n",
    "b.loc[b.WiFi == \"u'paid'\", 'WiFi'] = \"'paid'\"\n",
    "b.loc[b.WiFi == \"u'no'\", 'WiFi'] = \"'no'\""
   ]
  },
  {
   "cell_type": "code",
   "execution_count": 47,
   "metadata": {},
   "outputs": [],
   "source": [
    "import matplotlib.pyplot as plt\n",
    "import numpy as np\n",
    "import seaborn as sns\n",
    "import scipy\n",
    "from scipy.stats import ks_2samp"
   ]
  },
  {
   "cell_type": "markdown",
   "metadata": {},
   "source": [
    "b[b.business_id == '4CxF8c3MB7VAdY8zFb2cZQ']['RestaurantsGoodForGroups']"
   ]
  },
  {
   "cell_type": "markdown",
   "metadata": {
    "scrolled": true
   },
   "source": [
    "b[b.business_id == '4CxF8c3MB7VAdY8zFb2cZQ']['name']"
   ]
  },
  {
   "cell_type": "code",
   "execution_count": 48,
   "metadata": {},
   "outputs": [],
   "source": [
    "selected  = ['stars',  'BusinessAcceptsCreditCards', 'RestaurantsPriceRange2', 'NoiseLevel','RestaurantsGoodForGroups', 'Alcohol','GoodForKids',\n",
    " 'HasTV',\n",
    " 'DriveThru',\n",
    " 'WiFi',\n",
    "'street',\n",
    " 'garage',\n",
    " 'Music']"
   ]
  },
  {
   "cell_type": "code",
   "execution_count": 50,
   "metadata": {},
   "outputs": [
    {
     "data": {
      "text/html": [
       "<div>\n",
       "<style scoped>\n",
       "    .dataframe tbody tr th:only-of-type {\n",
       "        vertical-align: middle;\n",
       "    }\n",
       "\n",
       "    .dataframe tbody tr th {\n",
       "        vertical-align: top;\n",
       "    }\n",
       "\n",
       "    .dataframe thead th {\n",
       "        text-align: right;\n",
       "    }\n",
       "</style>\n",
       "<table border=\"1\" class=\"dataframe\">\n",
       "  <thead>\n",
       "    <tr style=\"text-align: right;\">\n",
       "      <th></th>\n",
       "      <th>stars</th>\n",
       "      <th>BusinessAcceptsCreditCards</th>\n",
       "      <th>RestaurantsPriceRange2</th>\n",
       "      <th>NoiseLevel</th>\n",
       "      <th>RestaurantsGoodForGroups</th>\n",
       "      <th>Alcohol</th>\n",
       "      <th>GoodForKids</th>\n",
       "      <th>HasTV</th>\n",
       "      <th>DriveThru</th>\n",
       "      <th>WiFi</th>\n",
       "      <th>street</th>\n",
       "      <th>garage</th>\n",
       "      <th>Music</th>\n",
       "    </tr>\n",
       "  </thead>\n",
       "  <tbody>\n",
       "    <tr>\n",
       "      <th>1371</th>\n",
       "      <td>3.5</td>\n",
       "      <td>True</td>\n",
       "      <td>1.0</td>\n",
       "      <td>NaN</td>\n",
       "      <td>True</td>\n",
       "      <td>'none'</td>\n",
       "      <td>True</td>\n",
       "      <td>NaN</td>\n",
       "      <td>NaN</td>\n",
       "      <td>NaN</td>\n",
       "      <td>True</td>\n",
       "      <td>False</td>\n",
       "      <td>0</td>\n",
       "    </tr>\n",
       "  </tbody>\n",
       "</table>\n",
       "</div>"
      ],
      "text/plain": [
       "      stars BusinessAcceptsCreditCards  RestaurantsPriceRange2 NoiseLevel  \\\n",
       "1371    3.5                       True                     1.0        NaN   \n",
       "\n",
       "     RestaurantsGoodForGroups Alcohol GoodForKids HasTV DriveThru WiFi street  \\\n",
       "1371                     True  'none'        True   NaN       NaN  NaN   True   \n",
       "\n",
       "     garage  Music  \n",
       "1371  False      0  "
      ]
     },
     "execution_count": 50,
     "metadata": {},
     "output_type": "execute_result"
    }
   ],
   "source": [
    "picked_bakery = b[b.business_id == '4CxF8c3MB7VAdY8zFb2cZQ'][selected] # bakery we want to analyse\n",
    "picked_bakery"
   ]
  },
  {
   "cell_type": "code",
   "execution_count": 9,
   "metadata": {},
   "outputs": [],
   "source": [
    "five_star = b[(b['city'] == 'Portland') & (b['stars'] == 5.0)][selected] # all five-star bakeries in portland"
   ]
  },
  {
   "cell_type": "code",
   "execution_count": 10,
   "metadata": {},
   "outputs": [],
   "source": [
    "five_mode = five_star.mode()"
   ]
  },
  {
   "cell_type": "code",
   "execution_count": 11,
   "metadata": {},
   "outputs": [],
   "source": [
    "final = picked_bakery.append(five_mode)"
   ]
  },
  {
   "cell_type": "code",
   "execution_count": 12,
   "metadata": {},
   "outputs": [
    {
     "name": "stdout",
     "output_type": "stream",
     "text": [
      "stars\n",
      "RestaurantsPriceRange2\n",
      "NoiseLevel\n",
      "HasTV\n",
      "DriveThru\n",
      "WiFi\n",
      "BusinessAcceptsBitcoin\n",
      "BYOBCorkage\n",
      "BYOB\n",
      "background_music\n",
      "live\n",
      "dinner\n"
     ]
    }
   ],
   "source": [
    "diff = []\n",
    "for item in selected:\n",
    "    if final[item][1371] != final[item][0]:\n",
    "        diff.append(item)\n",
    "        print(item)"
   ]
  },
  {
   "cell_type": "code",
   "execution_count": 13,
   "metadata": {},
   "outputs": [],
   "source": [
    "portland = b[b.city == 'Portland'][selected]"
   ]
  },
  {
   "cell_type": "code",
   "execution_count": 5,
   "metadata": {},
   "outputs": [],
   "source": [
    "portland.loc[portland.NoiseLevel == \"u'quiet'\", 'NoiseLevel'] = \"'quiet'\"\n",
    "portland.loc[portland.NoiseLevel == \"u'average'\", 'NoiseLevel'] = \"'average'\"\n",
    "portland.loc[portland.NoiseLevel == \"u'loud'\", 'NoiseLevel'] = \"'loud'\"\n",
    "portland.loc[portland.NoiseLevel == \"u'very_loud'\", 'NoiseLevel'] = \"'very_loud'\""
   ]
  },
  {
   "cell_type": "code",
   "execution_count": 6,
   "metadata": {},
   "outputs": [],
   "source": [
    "portland.loc[portland.WiFi == \"u'free'\", 'WiFi'] = \"'free'\"\n",
    "portland.loc[portland.WiFi == \"u'paid'\", 'WiFi'] = \"'paid'\"\n",
    "portland.loc[portland.WiFi == \"u'no'\", 'WiFi'] = \"'no'\""
   ]
  },
  {
   "cell_type": "code",
   "execution_count": 7,
   "metadata": {},
   "outputs": [],
   "source": [
    "portland.loc[portland.Alcohol == \"u'beer_and_wine'\", 'Alcohol'] = \"'beer_and_wine'\"\n",
    "portland.loc[portland.Alcohol == \"u'full_bar'\", 'Alcohol'] = \"'full_bar'\"\n",
    "portland.loc[portland.Alcohol == \"u'none'\" , 'Alcohol'] = \"'none'\""
   ]
  },
  {
   "cell_type": "code",
   "execution_count": 18,
   "metadata": {},
   "outputs": [],
   "source": [
    "diff.remove('stars')"
   ]
  },
  {
   "cell_type": "code",
   "execution_count": 19,
   "metadata": {},
   "outputs": [
    {
     "data": {
      "image/png": "[encoded data removed]",
      "text/plain": [
       "<Figure size 360x360 with 1 Axes>"
      ]
     },
     "metadata": {
      "needs_background": "light"
     },
     "output_type": "display_data"
    },
    {
     "data": {
      "image/png": "[encoded data removed]",
      "text/plain": [
       "<Figure size 360x360 with 1 Axes>"
      ]
     },
     "metadata": {
      "needs_background": "light"
     },
     "output_type": "display_data"
    },
    {
     "data": {
      "image/png": "[encoded data removed]",
      "text/plain": [
       "<Figure size 360x360 with 1 Axes>"
      ]
     },
     "metadata": {
      "needs_background": "light"
     },
     "output_type": "display_data"
    },
    {
     "data": {
      "image/png": "[encoded data removed]",
      "text/plain": [
       "<Figure size 360x360 with 1 Axes>"
      ]
     },
     "metadata": {
      "needs_background": "light"
     },
     "output_type": "display_data"
    },
    {
     "data": {
      "image/png": "[encoded data removed]",
      "text/plain": [
       "<Figure size 360x360 with 1 Axes>"
      ]
     },
     "metadata": {
      "needs_background": "light"
     },
     "output_type": "display_data"
    },
    {
     "data": {
      "image/png": "[encoded data removed]",
      "text/plain": [
       "<Figure size 360x360 with 1 Axes>"
      ]
     },
     "metadata": {
      "needs_background": "light"
     },
     "output_type": "display_data"
    },
    {
     "data": {
      "image/png": "[encoded data removed]",
      "text/plain": [
       "<Figure size 360x360 with 1 Axes>"
      ]
     },
     "metadata": {
      "needs_background": "light"
     },
     "output_type": "display_data"
    },
    {
     "data": {
      "image/png": "[encoded data removed]",
      "text/plain": [
       "<Figure size 360x360 with 1 Axes>"
      ]
     },
     "metadata": {
      "needs_background": "light"
     },
     "output_type": "display_data"
    },
    {
     "data": {
      "image/png": "[encoded data removed]",
      "text/plain": [
       "<Figure size 360x360 with 1 Axes>"
      ]
     },
     "metadata": {
      "needs_background": "light"
     },
     "output_type": "display_data"
    },
    {
     "data": {
      "image/png": "[encoded data removed]",
      "text/plain": [
       "<Figure size 360x360 with 1 Axes>"
      ]
     },
     "metadata": {
      "needs_background": "light"
     },
     "output_type": "display_data"
    },
    {
     "data": {
      "image/png": "[encoded data removed]",
      "text/plain": [
       "<Figure size 360x360 with 1 Axes>"
      ]
     },
     "metadata": {
      "needs_background": "light"
     },
     "output_type": "display_data"
    }
   ],
   "source": [
    "data = p.DataFrame()\n",
    "data['stars'] = portland['stars']\n",
    "for item in diff:\n",
    "    d = portland[item]\n",
    "    d = p.Categorical(d)\n",
    "    if 'None' in d:\n",
    "        d = d.fillna('None')\n",
    "    else:\n",
    "        d = d.add_categories('None').fillna(\"None\")\n",
    "    d.replace('none', 'None')\n",
    "    d.replace(\"'none'\", \"None\")\n",
    "    data[item] = d\n",
    "    sns.catplot(x = item, y='stars', kind=\"box\", data = data).savefig(str(item)+'.png')"
   ]
  },
  {
   "cell_type": "code",
   "execution_count": 14,
   "metadata": {},
   "outputs": [
    {
     "data": {
      "text/html": [
       "<div>\n",
       "<style scoped>\n",
       "    .dataframe tbody tr th:only-of-type {\n",
       "        vertical-align: middle;\n",
       "    }\n",
       "\n",
       "    .dataframe tbody tr th {\n",
       "        vertical-align: top;\n",
       "    }\n",
       "\n",
       "    .dataframe thead th {\n",
       "        text-align: right;\n",
       "    }\n",
       "</style>\n",
       "<table border=\"1\" class=\"dataframe\">\n",
       "  <thead>\n",
       "    <tr style=\"text-align: right;\">\n",
       "      <th></th>\n",
       "      <th>stars</th>\n",
       "      <th>RestaurantsPriceRange2</th>\n",
       "      <th>NoiseLevel</th>\n",
       "      <th>HasTV</th>\n",
       "      <th>DriveThru</th>\n",
       "      <th>WiFi</th>\n",
       "      <th>BusinessAcceptsBitcoin</th>\n",
       "      <th>BYOBCorkage</th>\n",
       "      <th>BYOB</th>\n",
       "      <th>background_music</th>\n",
       "      <th>live</th>\n",
       "      <th>dinner</th>\n",
       "    </tr>\n",
       "  </thead>\n",
       "  <tbody>\n",
       "    <tr>\n",
       "      <th>0</th>\n",
       "      <td>5.0</td>\n",
       "      <td>2.0</td>\n",
       "      <td>'average'</td>\n",
       "      <td>False</td>\n",
       "      <td>NaN</td>\n",
       "      <td>'free'</td>\n",
       "      <td>False</td>\n",
       "      <td>NaN</td>\n",
       "      <td>False</td>\n",
       "      <td>NaN</td>\n",
       "      <td>NaN</td>\n",
       "      <td>False</td>\n",
       "    </tr>\n",
       "  </tbody>\n",
       "</table>\n",
       "</div>"
      ],
      "text/plain": [
       "   stars  RestaurantsPriceRange2 NoiseLevel  HasTV DriveThru    WiFi  \\\n",
       "0    5.0                     2.0  'average'  False       NaN  'free'   \n",
       "\n",
       "  BusinessAcceptsBitcoin BYOBCorkage   BYOB background_music live dinner  \n",
       "0                  False         NaN  False              NaN  NaN  False  "
      ]
     },
     "execution_count": 14,
     "metadata": {},
     "output_type": "execute_result"
    }
   ],
   "source": [
    "five_mode[diff] "
   ]
  },
  {
   "cell_type": "code",
   "execution_count": 21,
   "metadata": {},
   "outputs": [
    {
     "data": {
      "text/html": [
       "<div>\n",
       "<style scoped>\n",
       "    .dataframe tbody tr th:only-of-type {\n",
       "        vertical-align: middle;\n",
       "    }\n",
       "\n",
       "    .dataframe tbody tr th {\n",
       "        vertical-align: top;\n",
       "    }\n",
       "\n",
       "    .dataframe thead th {\n",
       "        text-align: right;\n",
       "    }\n",
       "</style>\n",
       "<table border=\"1\" class=\"dataframe\">\n",
       "  <thead>\n",
       "    <tr style=\"text-align: right;\">\n",
       "      <th></th>\n",
       "      <th>RestaurantsPriceRange2</th>\n",
       "      <th>NoiseLevel</th>\n",
       "      <th>HasTV</th>\n",
       "      <th>DriveThru</th>\n",
       "      <th>WiFi</th>\n",
       "      <th>BusinessAcceptsBitcoin</th>\n",
       "      <th>BYOBCorkage</th>\n",
       "      <th>BYOB</th>\n",
       "      <th>background_music</th>\n",
       "      <th>live</th>\n",
       "      <th>dinner</th>\n",
       "    </tr>\n",
       "  </thead>\n",
       "  <tbody>\n",
       "    <tr>\n",
       "      <th>1371</th>\n",
       "      <td>1.0</td>\n",
       "      <td>NaN</td>\n",
       "      <td>NaN</td>\n",
       "      <td>NaN</td>\n",
       "      <td>NaN</td>\n",
       "      <td>NaN</td>\n",
       "      <td>'yes_free'</td>\n",
       "      <td>NaN</td>\n",
       "      <td>NaN</td>\n",
       "      <td>NaN</td>\n",
       "      <td>NaN</td>\n",
       "    </tr>\n",
       "  </tbody>\n",
       "</table>\n",
       "</div>"
      ],
      "text/plain": [
       "      RestaurantsPriceRange2 NoiseLevel HasTV DriveThru WiFi  \\\n",
       "1371                     1.0        NaN   NaN       NaN  NaN   \n",
       "\n",
       "     BusinessAcceptsBitcoin BYOBCorkage BYOB background_music live dinner  \n",
       "1371                    NaN  'yes_free'  NaN              NaN  NaN    NaN  "
      ]
     },
     "execution_count": 21,
     "metadata": {},
     "output_type": "execute_result"
    }
   ],
   "source": [
    "picked_bakery[diff]"
   ]
  },
  {
   "cell_type": "code",
   "execution_count": null,
   "metadata": {},
   "outputs": [],
   "source": [
    "#scipy.stats.ttest_ind(portland.loc['HasTV'], two_data.loc['cat2'], equal_var=False)"
   ]
  },
  {
   "cell_type": "code",
   "execution_count": null,
   "metadata": {},
   "outputs": [],
   "source": []
  },
  {
   "cell_type": "code",
   "execution_count": null,
   "metadata": {},
   "outputs": [],
   "source": []
  },
  {
   "cell_type": "code",
   "execution_count": null,
   "metadata": {},
   "outputs": [],
   "source": []
  },
  {
   "cell_type": "code",
   "execution_count": 63,
   "metadata": {},
   "outputs": [],
   "source": [
    "# ---------------start from here--------------------------"
   ]
  },
  {
   "cell_type": "code",
   "execution_count": 66,
   "metadata": {},
   "outputs": [
    {
     "data": {
      "text/plain": [
       "282"
      ]
     },
     "execution_count": 66,
     "metadata": {},
     "output_type": "execute_result"
    }
   ],
   "source": [
    "high = b[b['stars'] == 5.0][selected] # five_star bakeries in all dataset\n",
    "mode = high.mode()\n",
    "len(high)"
   ]
  },
  {
   "cell_type": "code",
   "execution_count": 52,
   "metadata": {},
   "outputs": [
    {
     "data": {
      "text/html": [
       "<div>\n",
       "<style scoped>\n",
       "    .dataframe tbody tr th:only-of-type {\n",
       "        vertical-align: middle;\n",
       "    }\n",
       "\n",
       "    .dataframe tbody tr th {\n",
       "        vertical-align: top;\n",
       "    }\n",
       "\n",
       "    .dataframe thead th {\n",
       "        text-align: right;\n",
       "    }\n",
       "</style>\n",
       "<table border=\"1\" class=\"dataframe\">\n",
       "  <thead>\n",
       "    <tr style=\"text-align: right;\">\n",
       "      <th></th>\n",
       "      <th>stars</th>\n",
       "      <th>BusinessAcceptsCreditCards</th>\n",
       "      <th>RestaurantsPriceRange2</th>\n",
       "      <th>NoiseLevel</th>\n",
       "      <th>RestaurantsGoodForGroups</th>\n",
       "      <th>Alcohol</th>\n",
       "      <th>GoodForKids</th>\n",
       "      <th>HasTV</th>\n",
       "      <th>DriveThru</th>\n",
       "      <th>WiFi</th>\n",
       "      <th>street</th>\n",
       "      <th>garage</th>\n",
       "      <th>Music</th>\n",
       "    </tr>\n",
       "  </thead>\n",
       "  <tbody>\n",
       "    <tr>\n",
       "      <th>1371</th>\n",
       "      <td>3.5</td>\n",
       "      <td>True</td>\n",
       "      <td>1.0</td>\n",
       "      <td>NaN</td>\n",
       "      <td>True</td>\n",
       "      <td>'none'</td>\n",
       "      <td>True</td>\n",
       "      <td>NaN</td>\n",
       "      <td>NaN</td>\n",
       "      <td>NaN</td>\n",
       "      <td>True</td>\n",
       "      <td>False</td>\n",
       "      <td>0</td>\n",
       "    </tr>\n",
       "    <tr>\n",
       "      <th>0</th>\n",
       "      <td>5.0</td>\n",
       "      <td>True</td>\n",
       "      <td>2.0</td>\n",
       "      <td>'quiet'</td>\n",
       "      <td>False</td>\n",
       "      <td>'none'</td>\n",
       "      <td>True</td>\n",
       "      <td>False</td>\n",
       "      <td>False</td>\n",
       "      <td>'free'</td>\n",
       "      <td>False</td>\n",
       "      <td>False</td>\n",
       "      <td>0</td>\n",
       "    </tr>\n",
       "  </tbody>\n",
       "</table>\n",
       "</div>"
      ],
      "text/plain": [
       "      stars BusinessAcceptsCreditCards  RestaurantsPriceRange2 NoiseLevel  \\\n",
       "1371    3.5                       True                     1.0        NaN   \n",
       "0       5.0                       True                     2.0    'quiet'   \n",
       "\n",
       "     RestaurantsGoodForGroups Alcohol GoodForKids  HasTV DriveThru    WiFi  \\\n",
       "1371                     True  'none'        True    NaN       NaN     NaN   \n",
       "0                       False  'none'        True  False     False  'free'   \n",
       "\n",
       "     street garage  Music  \n",
       "1371   True  False      0  \n",
       "0     False  False      0  "
      ]
     },
     "execution_count": 52,
     "metadata": {},
     "output_type": "execute_result"
    }
   ],
   "source": [
    "compare = picked_bakery.append(mode)\n",
    "compare"
   ]
  },
  {
   "cell_type": "code",
   "execution_count": 53,
   "metadata": {},
   "outputs": [
    {
     "name": "stdout",
     "output_type": "stream",
     "text": [
      "stars\n",
      "RestaurantsPriceRange2\n",
      "NoiseLevel\n",
      "RestaurantsGoodForGroups\n",
      "HasTV\n",
      "DriveThru\n",
      "WiFi\n",
      "street\n"
     ]
    }
   ],
   "source": [
    "c_diff = []\n",
    "for item in selected:\n",
    "    if compare[item][1371] != compare[item][0]:\n",
    "        c_diff.append(item)\n",
    "        print(item)"
   ]
  },
  {
   "cell_type": "code",
   "execution_count": 54,
   "metadata": {},
   "outputs": [],
   "source": [
    "high = high[c_diff]\n",
    "picked = picked_bakery[c_diff]"
   ]
  },
  {
   "cell_type": "code",
   "execution_count": 55,
   "metadata": {},
   "outputs": [
    {
     "data": {
      "text/plain": [
       "3.846512985118179"
      ]
     },
     "execution_count": 55,
     "metadata": {},
     "output_type": "execute_result"
    }
   ],
   "source": [
    "np.mean(b['stars'])"
   ]
  },
  {
   "cell_type": "code",
   "execution_count": 56,
   "metadata": {},
   "outputs": [
    {
     "name": "stdout",
     "output_type": "stream",
     "text": [
      "5.0    282\n",
      "Name: stars, dtype: int64\n",
      "2.0    78\n",
      "1.0    75\n",
      "3.0     7\n",
      "Name: RestaurantsPriceRange2, dtype: int64\n",
      "'quiet'      23\n",
      "'average'    17\n",
      "Name: NoiseLevel, dtype: int64\n",
      "False    16\n",
      "True     15\n",
      "Name: RestaurantsGoodForGroups, dtype: int64\n",
      "False    39\n",
      "True      8\n",
      "Name: HasTV, dtype: int64\n",
      "False    2\n",
      "True     1\n",
      "Name: DriveThru, dtype: int64\n",
      "'free'    50\n",
      "'no'      27\n",
      "Name: WiFi, dtype: int64\n",
      "False    108\n",
      "True      83\n",
      "Name: street, dtype: int64\n"
     ]
    }
   ],
   "source": [
    "for item in c_diff:\n",
    "    print(high[item].value_counts())\n",
    "# price_range, noise_level, goodforgroups"
   ]
  },
  {
   "cell_type": "code",
   "execution_count": 57,
   "metadata": {},
   "outputs": [
    {
     "data": {
      "text/html": [
       "<div>\n",
       "<style scoped>\n",
       "    .dataframe tbody tr th:only-of-type {\n",
       "        vertical-align: middle;\n",
       "    }\n",
       "\n",
       "    .dataframe tbody tr th {\n",
       "        vertical-align: top;\n",
       "    }\n",
       "\n",
       "    .dataframe thead th {\n",
       "        text-align: right;\n",
       "    }\n",
       "</style>\n",
       "<table border=\"1\" class=\"dataframe\">\n",
       "  <thead>\n",
       "    <tr style=\"text-align: right;\">\n",
       "      <th></th>\n",
       "      <th>stars</th>\n",
       "      <th>RestaurantsPriceRange2</th>\n",
       "      <th>NoiseLevel</th>\n",
       "      <th>RestaurantsGoodForGroups</th>\n",
       "      <th>HasTV</th>\n",
       "      <th>DriveThru</th>\n",
       "      <th>WiFi</th>\n",
       "      <th>street</th>\n",
       "    </tr>\n",
       "  </thead>\n",
       "  <tbody>\n",
       "    <tr>\n",
       "      <th>1371</th>\n",
       "      <td>3.5</td>\n",
       "      <td>1.0</td>\n",
       "      <td>NaN</td>\n",
       "      <td>True</td>\n",
       "      <td>NaN</td>\n",
       "      <td>NaN</td>\n",
       "      <td>NaN</td>\n",
       "      <td>True</td>\n",
       "    </tr>\n",
       "    <tr>\n",
       "      <th>0</th>\n",
       "      <td>5.0</td>\n",
       "      <td>2.0</td>\n",
       "      <td>'quiet'</td>\n",
       "      <td>False</td>\n",
       "      <td>False</td>\n",
       "      <td>False</td>\n",
       "      <td>'free'</td>\n",
       "      <td>False</td>\n",
       "    </tr>\n",
       "  </tbody>\n",
       "</table>\n",
       "</div>"
      ],
      "text/plain": [
       "      stars  RestaurantsPriceRange2 NoiseLevel RestaurantsGoodForGroups  \\\n",
       "1371    3.5                     1.0        NaN                     True   \n",
       "0       5.0                     2.0    'quiet'                    False   \n",
       "\n",
       "      HasTV DriveThru    WiFi street  \n",
       "1371    NaN       NaN     NaN   True  \n",
       "0     False     False  'free'  False  "
      ]
     },
     "execution_count": 57,
     "metadata": {},
     "output_type": "execute_result"
    }
   ],
   "source": [
    "compare[c_diff]"
   ]
  },
  {
   "cell_type": "code",
   "execution_count": 58,
   "metadata": {},
   "outputs": [
    {
     "data": {
      "text/html": [
       "<table class=\"simpletable\">\n",
       "<caption>OLS Regression Results</caption>\n",
       "<tr>\n",
       "  <th>Dep. Variable:</th>          <td>stars</td>      <th>  R-squared:         </th> <td>   0.152</td>\n",
       "</tr>\n",
       "<tr>\n",
       "  <th>Model:</th>                   <td>OLS</td>       <th>  Adj. R-squared:    </th> <td>   0.143</td>\n",
       "</tr>\n",
       "<tr>\n",
       "  <th>Method:</th>             <td>Least Squares</td>  <th>  F-statistic:       </th> <td>   17.58</td>\n",
       "</tr>\n",
       "<tr>\n",
       "  <th>Date:</th>             <td>Wed, 01 Dec 2021</td> <th>  Prob (F-statistic):</th> <td>1.05e-29</td>\n",
       "</tr>\n",
       "<tr>\n",
       "  <th>Time:</th>                 <td>13:02:29</td>     <th>  Log-Likelihood:    </th> <td> -924.76</td>\n",
       "</tr>\n",
       "<tr>\n",
       "  <th>No. Observations:</th>      <td>   991</td>      <th>  AIC:               </th> <td>   1872.</td>\n",
       "</tr>\n",
       "<tr>\n",
       "  <th>Df Residuals:</th>          <td>   980</td>      <th>  BIC:               </th> <td>   1925.</td>\n",
       "</tr>\n",
       "<tr>\n",
       "  <th>Df Model:</th>              <td>    10</td>      <th>                     </th>     <td> </td>   \n",
       "</tr>\n",
       "<tr>\n",
       "  <th>Covariance Type:</th>      <td>nonrobust</td>    <th>                     </th>     <td> </td>   \n",
       "</tr>\n",
       "</table>\n",
       "<table class=\"simpletable\">\n",
       "<tr>\n",
       "                  <td></td>                    <th>coef</th>     <th>std err</th>      <th>t</th>      <th>P>|t|</th>  <th>[0.025</th>    <th>0.975]</th>  \n",
       "</tr>\n",
       "<tr>\n",
       "  <th>Intercept</th>                        <td>    3.9577</td> <td>    0.081</td> <td>   49.027</td> <td> 0.000</td> <td>    3.799</td> <td>    4.116</td>\n",
       "</tr>\n",
       "<tr>\n",
       "  <th>NoiseLevel[T.'loud']</th>             <td>   -0.0737</td> <td>    0.097</td> <td>   -0.761</td> <td> 0.447</td> <td>   -0.264</td> <td>    0.116</td>\n",
       "</tr>\n",
       "<tr>\n",
       "  <th>NoiseLevel[T.'quiet']</th>            <td>    0.2215</td> <td>    0.047</td> <td>    4.723</td> <td> 0.000</td> <td>    0.129</td> <td>    0.313</td>\n",
       "</tr>\n",
       "<tr>\n",
       "  <th>NoiseLevel[T.'very_loud']</th>        <td>    0.0805</td> <td>    0.279</td> <td>    0.288</td> <td> 0.773</td> <td>   -0.467</td> <td>    0.628</td>\n",
       "</tr>\n",
       "<tr>\n",
       "  <th>RestaurantsGoodForGroups[T.None]</th> <td> 2.937e-16</td> <td> 9.29e-16</td> <td>    0.316</td> <td> 0.752</td> <td>-1.53e-15</td> <td> 2.12e-15</td>\n",
       "</tr>\n",
       "<tr>\n",
       "  <th>RestaurantsGoodForGroups[T.True]</th> <td>   -0.1461</td> <td>    0.048</td> <td>   -3.013</td> <td> 0.003</td> <td>   -0.241</td> <td>   -0.051</td>\n",
       "</tr>\n",
       "<tr>\n",
       "  <th>HasTV[T.None]</th>                    <td> 5.546e-16</td> <td> 2.12e-15</td> <td>    0.261</td> <td> 0.794</td> <td>-3.61e-15</td> <td> 4.72e-15</td>\n",
       "</tr>\n",
       "<tr>\n",
       "  <th>HasTV[T.True]</th>                    <td>   -0.2335</td> <td>    0.040</td> <td>   -5.778</td> <td> 0.000</td> <td>   -0.313</td> <td>   -0.154</td>\n",
       "</tr>\n",
       "<tr>\n",
       "  <th>WiFi[T.'no']</th>                     <td>    0.1228</td> <td>    0.045</td> <td>    2.732</td> <td> 0.006</td> <td>    0.035</td> <td>    0.211</td>\n",
       "</tr>\n",
       "<tr>\n",
       "  <th>WiFi[T.'paid']</th>                   <td>    0.1031</td> <td>    0.358</td> <td>    0.288</td> <td> 0.774</td> <td>   -0.600</td> <td>    0.806</td>\n",
       "</tr>\n",
       "<tr>\n",
       "  <th>WiFi[T.None]</th>                     <td>    0.0794</td> <td>    0.620</td> <td>    0.128</td> <td> 0.898</td> <td>   -1.137</td> <td>    1.296</td>\n",
       "</tr>\n",
       "<tr>\n",
       "  <th>street[T.True]</th>                   <td>    0.2590</td> <td>    0.040</td> <td>    6.420</td> <td> 0.000</td> <td>    0.180</td> <td>    0.338</td>\n",
       "</tr>\n",
       "<tr>\n",
       "  <th>RestaurantsPriceRange2</th>           <td>   -0.1500</td> <td>    0.039</td> <td>   -3.873</td> <td> 0.000</td> <td>   -0.226</td> <td>   -0.074</td>\n",
       "</tr>\n",
       "</table>\n",
       "<table class=\"simpletable\">\n",
       "<tr>\n",
       "  <th>Omnibus:</th>       <td>49.012</td> <th>  Durbin-Watson:     </th> <td>   1.951</td>\n",
       "</tr>\n",
       "<tr>\n",
       "  <th>Prob(Omnibus):</th> <td> 0.000</td> <th>  Jarque-Bera (JB):  </th> <td>  55.292</td>\n",
       "</tr>\n",
       "<tr>\n",
       "  <th>Skew:</th>          <td>-0.576</td> <th>  Prob(JB):          </th> <td>9.85e-13</td>\n",
       "</tr>\n",
       "<tr>\n",
       "  <th>Kurtosis:</th>      <td> 3.109</td> <th>  Cond. No.          </th> <td>5.01e+17</td>\n",
       "</tr>\n",
       "</table><br/><br/>Notes:<br/>[1] Standard Errors assume that the covariance matrix of the errors is correctly specified.<br/>[2] The smallest eigenvalue is 1.74e-32. This might indicate that there are<br/>strong multicollinearity problems or that the design matrix is singular."
      ],
      "text/plain": [
       "<class 'statsmodels.iolib.summary.Summary'>\n",
       "\"\"\"\n",
       "                            OLS Regression Results                            \n",
       "==============================================================================\n",
       "Dep. Variable:                  stars   R-squared:                       0.152\n",
       "Model:                            OLS   Adj. R-squared:                  0.143\n",
       "Method:                 Least Squares   F-statistic:                     17.58\n",
       "Date:                Wed, 01 Dec 2021   Prob (F-statistic):           1.05e-29\n",
       "Time:                        13:02:29   Log-Likelihood:                -924.76\n",
       "No. Observations:                 991   AIC:                             1872.\n",
       "Df Residuals:                     980   BIC:                             1925.\n",
       "Df Model:                          10                                         \n",
       "Covariance Type:            nonrobust                                         \n",
       "====================================================================================================\n",
       "                                       coef    std err          t      P>|t|      [0.025      0.975]\n",
       "----------------------------------------------------------------------------------------------------\n",
       "Intercept                            3.9577      0.081     49.027      0.000       3.799       4.116\n",
       "NoiseLevel[T.'loud']                -0.0737      0.097     -0.761      0.447      -0.264       0.116\n",
       "NoiseLevel[T.'quiet']                0.2215      0.047      4.723      0.000       0.129       0.313\n",
       "NoiseLevel[T.'very_loud']            0.0805      0.279      0.288      0.773      -0.467       0.628\n",
       "RestaurantsGoodForGroups[T.None]  2.937e-16   9.29e-16      0.316      0.752   -1.53e-15    2.12e-15\n",
       "RestaurantsGoodForGroups[T.True]    -0.1461      0.048     -3.013      0.003      -0.241      -0.051\n",
       "HasTV[T.None]                     5.546e-16   2.12e-15      0.261      0.794   -3.61e-15    4.72e-15\n",
       "HasTV[T.True]                       -0.2335      0.040     -5.778      0.000      -0.313      -0.154\n",
       "WiFi[T.'no']                         0.1228      0.045      2.732      0.006       0.035       0.211\n",
       "WiFi[T.'paid']                       0.1031      0.358      0.288      0.774      -0.600       0.806\n",
       "WiFi[T.None]                         0.0794      0.620      0.128      0.898      -1.137       1.296\n",
       "street[T.True]                       0.2590      0.040      6.420      0.000       0.180       0.338\n",
       "RestaurantsPriceRange2              -0.1500      0.039     -3.873      0.000      -0.226      -0.074\n",
       "==============================================================================\n",
       "Omnibus:                       49.012   Durbin-Watson:                   1.951\n",
       "Prob(Omnibus):                  0.000   Jarque-Bera (JB):               55.292\n",
       "Skew:                          -0.576   Prob(JB):                     9.85e-13\n",
       "Kurtosis:                       3.109   Cond. No.                     5.01e+17\n",
       "==============================================================================\n",
       "\n",
       "Notes:\n",
       "[1] Standard Errors assume that the covariance matrix of the errors is correctly specified.\n",
       "[2] The smallest eigenvalue is 1.74e-32. This might indicate that there are\n",
       "strong multicollinearity problems or that the design matrix is singular.\n",
       "\"\"\""
      ]
     },
     "execution_count": 58,
     "metadata": {},
     "output_type": "execute_result"
    }
   ],
   "source": [
    "import statsmodels.api as sm\n",
    "model = sm.OLS.from_formula('stars ~ RestaurantsPriceRange2+NoiseLevel+RestaurantsGoodForGroups+HasTV+WiFi+street', b).fit()\n",
    "model.summary()"
   ]
  },
  {
   "cell_type": "code",
   "execution_count": null,
   "metadata": {},
   "outputs": [],
   "source": [
    "# noise level: quiet \n",
    "# goodforgroups: false (agree with the tree)\n",
    "# hasTV: false\n",
    "# wifi: ignore as it does not agree with the mode of 5_star bakeries\n",
    "# street: offer street parking (agree with the tree)\n",
    "# price range: ingore as it does agree with the mode of 5_star bakeries"
   ]
  },
  {
   "cell_type": "code",
   "execution_count": 52,
   "metadata": {},
   "outputs": [],
   "source": [
    "# -----------ends here---------------------"
   ]
  },
  {
   "cell_type": "code",
   "execution_count": null,
   "metadata": {},
   "outputs": [],
   "source": []
  },
  {
   "cell_type": "code",
   "execution_count": null,
   "metadata": {},
   "outputs": [],
   "source": []
  },
  {
   "cell_type": "code",
   "execution_count": null,
   "metadata": {},
   "outputs": [],
   "source": []
  },
  {
   "cell_type": "code",
   "execution_count": 45,
   "metadata": {},
   "outputs": [
    {
     "name": "stdout",
     "output_type": "stream",
     "text": [
      "KstestResult(statistic=0.04547106465457566, pvalue=0.09739014696304382)\n",
      "Ttest_indResult(statistic=1.7470704088741968, pvalue=0.0807315658732486)\n",
      "3.8306451612903225 3.7836194563662375 all\n",
      "4.023668639053255 3.9007936507936507 portland\n"
     ]
    }
   ],
   "source": [
    "price1 = b[b['RestaurantsPriceRange2'] == 1.0]\n",
    "price2 = b[b['RestaurantsPriceRange2'] == 2.0]\n",
    "print(ks_2samp(price1['stars'], price2['stars']))\n",
    "print(scipy.stats.ttest_ind(price1['stars'], price2['stars']))\n",
    "print(np.mean(price1['stars']), np.mean(price2['stars']), 'all')\n",
    "print(np.mean(portland[portland['RestaurantsPriceRange2'] == 1.0]['stars']), np.mean(portland[portland['RestaurantsPriceRange2'] == 2.0]['stars']), 'portland')"
   ]
  },
  {
   "cell_type": "code",
   "execution_count": 48,
   "metadata": {},
   "outputs": [
    {
     "data": {
      "text/plain": [
       "(4.0, 4.0)"
      ]
     },
     "execution_count": 48,
     "metadata": {},
     "output_type": "execute_result"
    }
   ],
   "source": [
    "np.median(price1['stars']), np.median(price2['stars'])"
   ]
  },
  {
   "cell_type": "markdown",
   "metadata": {},
   "source": [
    "price_1or2 = b[(b['RestaurantsPriceRange2'] == 1.0 )| (b['RestaurantsPriceRange2'] == 2.0)]\n",
    "sns.catplot(x = 'RestaurantsPriceRange2', y='stars', kind=\"box\", data = price_1or2).savefig(str(item)+'.png')"
   ]
  },
  {
   "cell_type": "code",
   "execution_count": 75,
   "metadata": {},
   "outputs": [
    {
     "name": "stdout",
     "output_type": "stream",
     "text": [
      "Ttest_indResult(statistic=-3.768203694634184, pvalue=0.0001675858736578176)\n",
      "3.7530795072788354 3.86819687647894 all\n"
     ]
    },
    {
     "data": {
      "text/plain": [
       "(4.008064516129032, 4.039267015706806)"
      ]
     },
     "execution_count": 75,
     "metadata": {},
     "output_type": "execute_result"
    }
   ],
   "source": [
    "noise_avg = b[b['NoiseLevel'] == \"'average'\"]\n",
    "noise_nan = b[b['NoiseLevel'].isnull()]\n",
    "ks_2samp(noise_avg['stars'], noise_nan['stars'])\n",
    "print(scipy.stats.ttest_ind(noise_avg['stars'], noise_nan['stars']))\n",
    "print(np.mean(noise_avg['stars']), np.mean(noise_nan['stars']), 'all')\n",
    "na = portland[portland['NoiseLevel'].isnull()]\n",
    "np.mean(portland[portland['NoiseLevel'] == \"'average'\"]['stars']), np.mean(na['stars'])"
   ]
  },
  {
   "cell_type": "markdown",
   "metadata": {},
   "source": [
    "import matplotlib.pyplot as plt\n",
    "plt.hist(noise_avg['stars'])\n",
    "plt.show()\n",
    "plt.hist(noise_nan['stars'])\n",
    "plt.show()"
   ]
  },
  {
   "cell_type": "code",
   "execution_count": 17,
   "metadata": {},
   "outputs": [
    {
     "name": "stdout",
     "output_type": "stream",
     "text": [
      "Ttest_indResult(statistic=0.8052869642118048, pvalue=0.4207223087065006)\n"
     ]
    }
   ],
   "source": [
    "tv_false = b[b['HasTV'] == 'False']\n",
    "tv_nan = b[b['HasTV'].isnull()]\n",
    "ks_2samp(tv_false['stars'], tv_nan['stars'])\n",
    "print(scipy.stats.ttest_ind(tv_false['stars'], tv_nan['stars']))"
   ]
  },
  {
   "cell_type": "markdown",
   "metadata": {},
   "source": [
    "import matplotlib.pyplot as plt\n",
    "plt.hist(tv_false['stars'])\n",
    "plt.show()\n",
    "plt.hist(tv_nan['stars'])\n",
    "plt.show()"
   ]
  },
  {
   "cell_type": "code",
   "execution_count": 40,
   "metadata": {},
   "outputs": [
    {
     "name": "stdout",
     "output_type": "stream",
     "text": [
      "Ttest_indResult(statistic=-5.417748456344793, pvalue=6.525506659416214e-08)\n",
      "4.068965517241379 3.975862068965517 portland\n",
      "3.7431693989071038 3.8982381530984203 all\n"
     ]
    }
   ],
   "source": [
    "wifi_free = b[b['WiFi'] == \"'free'\"]\n",
    "wifi_nan = b[b['WiFi'].isnull()]\n",
    "ks_2samp(wifi_free['stars'], wifi_nan['stars'])\n",
    "print(scipy.stats.ttest_ind(wifi_free['stars'], wifi_nan['stars']))\n",
    "n = portland[portland['WiFi'].isnull()]\n",
    "print(np.mean(portland[portland['WiFi'] == \"'free'\"]['stars']), np.mean(n['stars']), 'portland')\n",
    "print(np.mean(wifi_free['stars']),np.mean(wifi_nan['stars']), 'all')"
   ]
  },
  {
   "cell_type": "markdown",
   "metadata": {},
   "source": [
    "import matplotlib.pyplot as plt\n",
    "plt.hist(wifi_free['stars'])\n",
    "plt.show()\n",
    "plt.hist(wifi_nan['stars'])\n",
    "plt.show()"
   ]
  },
  {
   "cell_type": "code",
   "execution_count": 19,
   "metadata": {},
   "outputs": [
    {
     "name": "stdout",
     "output_type": "stream",
     "text": [
      "Ttest_indResult(statistic=-0.013461471044900525, pvalue=0.989260434274032)\n"
     ]
    }
   ],
   "source": [
    "dinner_f = b[b['dinner'] == False]\n",
    "dinner_nan = b[b['dinner'].isnull()]\n",
    "ks_2samp(dinner_f['stars'], dinner_nan['stars'])\n",
    "print(scipy.stats.ttest_ind(dinner_f['stars'], dinner_nan['stars']))"
   ]
  },
  {
   "cell_type": "markdown",
   "metadata": {},
   "source": [
    "import matplotlib.pyplot as plt\n",
    "plt.hist(dinner_f['stars'])\n",
    "plt.show()\n",
    "plt.hist(dinner_nan['stars'])\n",
    "plt.show()"
   ]
  },
  {
   "cell_type": "code",
   "execution_count": null,
   "metadata": {},
   "outputs": [],
   "source": []
  },
  {
   "cell_type": "code",
   "execution_count": null,
   "metadata": {},
   "outputs": [],
   "source": [
    "# price range, noise, wifi"
   ]
  },
  {
   "cell_type": "code",
   "execution_count": null,
   "metadata": {},
   "outputs": [],
   "source": []
  },
  {
   "cell_type": "code",
   "execution_count": null,
   "metadata": {},
   "outputs": [],
   "source": []
  },
  {
   "cell_type": "code",
   "execution_count": 20,
   "metadata": {},
   "outputs": [
    {
     "data": {
      "text/plain": [
       "66       25\n",
       "108      15\n",
       "165      49\n",
       "374      18\n",
       "378       9\n",
       "391       9\n",
       "458      24\n",
       "467      11\n",
       "477      28\n",
       "505      10\n",
       "593      75\n",
       "657      43\n",
       "683      54\n",
       "743       5\n",
       "819      10\n",
       "847      18\n",
       "852      15\n",
       "872      53\n",
       "940      16\n",
       "954     108\n",
       "984       5\n",
       "1041     63\n",
       "1063      9\n",
       "1064     12\n",
       "1113     60\n",
       "1124     34\n",
       "1363     30\n",
       "1723      8\n",
       "1854      5\n",
       "1865      6\n",
       "1977      7\n",
       "2021      5\n",
       "2074      6\n",
       "2084     23\n",
       "2128     13\n",
       "2187     31\n",
       "2224     10\n",
       "2294      7\n",
       "2306      7\n",
       "2437      7\n",
       "2476     23\n",
       "2610     30\n",
       "2896     16\n",
       "2946     14\n",
       "2996     98\n",
       "3119      6\n",
       "3145      6\n",
       "3281     10\n",
       "3334     18\n",
       "3379     19\n",
       "Name: review_count, dtype: int64"
      ]
     },
     "execution_count": 20,
     "metadata": {},
     "output_type": "execute_result"
    }
   ],
   "source": [
    "b[(b['state'] == 'OR') & (b['stars'] == 5.0)].review_count"
   ]
  },
  {
   "cell_type": "code",
   "execution_count": 11,
   "metadata": {},
   "outputs": [
    {
     "name": "stdout",
     "output_type": "stream",
     "text": [
      "908    True\n",
      "Name: street, dtype: object\n",
      "908    True\n",
      "Name: RestaurantsGoodForGroups, dtype: object\n"
     ]
    }
   ],
   "source": [
    "print(b[b.business_id == 'OQ2oHkcWA8KNC1Lsvj1SBA'].street)\n",
    "print(b[b.business_id == 'OQ2oHkcWA8KNC1Lsvj1SBA'].RestaurantsGoodForGroups)"
   ]
  },
  {
   "cell_type": "code",
   "execution_count": 12,
   "metadata": {},
   "outputs": [
    {
     "name": "stdout",
     "output_type": "stream",
     "text": [
      "954    True\n",
      "Name: street, dtype: object\n",
      "954    NaN\n",
      "Name: RestaurantsGoodForGroups, dtype: object\n"
     ]
    }
   ],
   "source": [
    "print(b[b.business_id == 'itqW3t8LhYjWvjZDf-HkhQ'].street)\n",
    "print(b[b.business_id == 'itqW3t8LhYjWvjZDf-HkhQ'].RestaurantsGoodForGroups)"
   ]
  },
  {
   "cell_type": "code",
   "execution_count": 67,
   "metadata": {},
   "outputs": [],
   "source": [
    "portland = b[b.city == 'Portland']"
   ]
  },
  {
   "cell_type": "code",
   "execution_count": 5,
   "metadata": {},
   "outputs": [
    {
     "data": {
      "text/plain": [
       "348"
      ]
     },
     "execution_count": 5,
     "metadata": {},
     "output_type": "execute_result"
    }
   ],
   "source": [
    "len(portland)"
   ]
  },
  {
   "cell_type": "code",
   "execution_count": 28,
   "metadata": {},
   "outputs": [
    {
     "data": {
      "text/html": [
       "<div>\n",
       "<style scoped>\n",
       "    .dataframe tbody tr th:only-of-type {\n",
       "        vertical-align: middle;\n",
       "    }\n",
       "\n",
       "    .dataframe tbody tr th {\n",
       "        vertical-align: top;\n",
       "    }\n",
       "\n",
       "    .dataframe thead th {\n",
       "        text-align: right;\n",
       "    }\n",
       "</style>\n",
       "<table border=\"1\" class=\"dataframe\">\n",
       "  <thead>\n",
       "    <tr style=\"text-align: right;\">\n",
       "      <th></th>\n",
       "      <th>business_id</th>\n",
       "      <th>name</th>\n",
       "      <th>address</th>\n",
       "      <th>city</th>\n",
       "      <th>state</th>\n",
       "      <th>postal_code</th>\n",
       "      <th>latitude</th>\n",
       "      <th>longitude</th>\n",
       "      <th>stars</th>\n",
       "      <th>review_count</th>\n",
       "      <th>...</th>\n",
       "      <th>sunday</th>\n",
       "      <th>saturday</th>\n",
       "      <th>DietaryRestrictions</th>\n",
       "      <th>dairy-free</th>\n",
       "      <th>gluten-free</th>\n",
       "      <th>vegan</th>\n",
       "      <th>kosher</th>\n",
       "      <th>halal</th>\n",
       "      <th>soy-free</th>\n",
       "      <th>vegetarian</th>\n",
       "    </tr>\n",
       "  </thead>\n",
       "  <tbody>\n",
       "    <tr>\n",
       "      <th>908</th>\n",
       "      <td>OQ2oHkcWA8KNC1Lsvj1SBA</td>\n",
       "      <td>Screen Door</td>\n",
       "      <td>2337 E Burnside St</td>\n",
       "      <td>Portland</td>\n",
       "      <td>OR</td>\n",
       "      <td>97214</td>\n",
       "      <td>45.523086</td>\n",
       "      <td>-122.64168</td>\n",
       "      <td>4.5</td>\n",
       "      <td>7219</td>\n",
       "      <td>...</td>\n",
       "      <td>NaN</td>\n",
       "      <td>NaN</td>\n",
       "      <td>0</td>\n",
       "      <td>NaN</td>\n",
       "      <td>NaN</td>\n",
       "      <td>NaN</td>\n",
       "      <td>NaN</td>\n",
       "      <td>NaN</td>\n",
       "      <td>NaN</td>\n",
       "      <td>NaN</td>\n",
       "    </tr>\n",
       "    <tr>\n",
       "      <th>954</th>\n",
       "      <td>itqW3t8LhYjWvjZDf-HkhQ</td>\n",
       "      <td>Oracle Coffee Company</td>\n",
       "      <td>3875 Sw Bond Ave</td>\n",
       "      <td>Portland</td>\n",
       "      <td>OR</td>\n",
       "      <td>97239</td>\n",
       "      <td>45.495169</td>\n",
       "      <td>-122.67093</td>\n",
       "      <td>5.0</td>\n",
       "      <td>108</td>\n",
       "      <td>...</td>\n",
       "      <td>NaN</td>\n",
       "      <td>NaN</td>\n",
       "      <td>0</td>\n",
       "      <td>NaN</td>\n",
       "      <td>NaN</td>\n",
       "      <td>NaN</td>\n",
       "      <td>NaN</td>\n",
       "      <td>NaN</td>\n",
       "      <td>NaN</td>\n",
       "      <td>NaN</td>\n",
       "    </tr>\n",
       "  </tbody>\n",
       "</table>\n",
       "<p>2 rows × 98 columns</p>\n",
       "</div>"
      ],
      "text/plain": [
       "                business_id                   name             address  \\\n",
       "908  OQ2oHkcWA8KNC1Lsvj1SBA            Screen Door  2337 E Burnside St   \n",
       "954  itqW3t8LhYjWvjZDf-HkhQ  Oracle Coffee Company    3875 Sw Bond Ave   \n",
       "\n",
       "         city state postal_code   latitude  longitude  stars  review_count  \\\n",
       "908  Portland    OR       97214  45.523086 -122.64168    4.5          7219   \n",
       "954  Portland    OR       97239  45.495169 -122.67093    5.0           108   \n",
       "\n",
       "     ...  sunday saturday DietaryRestrictions dairy-free gluten-free vegan  \\\n",
       "908  ...     NaN      NaN                   0        NaN         NaN   NaN   \n",
       "954  ...     NaN      NaN                   0        NaN         NaN   NaN   \n",
       "\n",
       "    kosher  halal soy-free vegetarian  \n",
       "908    NaN    NaN      NaN        NaN  \n",
       "954    NaN    NaN      NaN        NaN  \n",
       "\n",
       "[2 rows x 98 columns]"
      ]
     },
     "execution_count": 28,
     "metadata": {},
     "output_type": "execute_result"
    }
   ],
   "source": [
    "two_bakeries"
   ]
  },
  {
   "cell_type": "code",
   "execution_count": 27,
   "metadata": {},
   "outputs": [],
   "source": [
    "two_bakeries = b[(b['business_id'] == 'itqW3t8LhYjWvjZDf-HkhQ') | (b['business_id'] == 'OQ2oHkcWA8KNC1Lsvj1SBA')]"
   ]
  },
  {
   "cell_type": "code",
   "execution_count": 34,
   "metadata": {},
   "outputs": [],
   "source": [
    "selected_variables = ['stars',  'BusinessAcceptsCreditCards', 'RestaurantsPriceRange2', 'NoiseLevel','RestaurantsGoodForGroups', 'Alcohol','GoodForKids',\n",
    " 'HasTV',\n",
    " 'DriveThru',\n",
    " 'WiFi',\n",
    "'street',\n",
    " 'garage',\n",
    " 'Music', 'BusinessAcceptsBitcoin', 'BYOBCorkage', 'BYOB', 'valet', 'background_music', 'live', 'dinner', 'BestNights']\n",
    "# variables selected by box-plots last time "
   ]
  },
  {
   "cell_type": "code",
   "execution_count": 35,
   "metadata": {},
   "outputs": [],
   "source": [
    "diff = list() # list of variables that two bakeries are different\n",
    "for item in two_bakeries.columns:\n",
    "    if two_bakeries[item][908] != two_bakeries[item][954]:\n",
    "        diff.append(item)\n",
    "        #print(item)"
   ]
  },
  {
   "cell_type": "code",
   "execution_count": 54,
   "metadata": {},
   "outputs": [
    {
     "data": {
      "text/plain": [
       "['BYOB',\n",
       " 'DriveThru',\n",
       " 'RestaurantsGoodForGroups',\n",
       " 'HasTV',\n",
       " 'BYOBCorkage',\n",
       " 'Alcohol',\n",
       " 'BusinessAcceptsBitcoin',\n",
       " 'background_music',\n",
       " 'live',\n",
       " 'dinner',\n",
       " 'stars',\n",
       " 'GoodForKids',\n",
       " 'WiFi']"
      ]
     },
     "execution_count": 54,
     "metadata": {},
     "output_type": "execute_result"
    }
   ],
   "source": [
    "# find the valid variables\n",
    "valid = list(set(selected_variables).intersection(diff))\n",
    "valid"
   ]
  },
  {
   "cell_type": "code",
   "execution_count": 68,
   "metadata": {},
   "outputs": [
    {
     "name": "stderr",
     "output_type": "stream",
     "text": [
      "C:\\Users\\80498\\anaconda3\\lib\\site-packages\\pandas\\core\\indexing.py:1765: SettingWithCopyWarning: \n",
      "A value is trying to be set on a copy of a slice from a DataFrame.\n",
      "Try using .loc[row_indexer,col_indexer] = value instead\n",
      "\n",
      "See the caveats in the documentation: https://pandas.pydata.org/pandas-docs/stable/user_guide/indexing.html#returning-a-view-versus-a-copy\n",
      "  isetter(loc, value)\n"
     ]
    }
   ],
   "source": [
    "portland.loc[portland.Alcohol == \"u'beer_and_wine'\", 'Alcohol'] = \"'beer_and_wine'\"\n",
    "portland.loc[portland.Alcohol == \"u'full_bar'\", 'Alcohol'] = \"'full_bar'\"\n",
    "portland.loc[portland.Alcohol == \"u'none'\" , 'Alcohol'] = \"'none'\""
   ]
  },
  {
   "cell_type": "code",
   "execution_count": 69,
   "metadata": {},
   "outputs": [
    {
     "data": {
      "text/html": [
       "<div>\n",
       "<style scoped>\n",
       "    .dataframe tbody tr th:only-of-type {\n",
       "        vertical-align: middle;\n",
       "    }\n",
       "\n",
       "    .dataframe tbody tr th {\n",
       "        vertical-align: top;\n",
       "    }\n",
       "\n",
       "    .dataframe thead th {\n",
       "        text-align: right;\n",
       "    }\n",
       "</style>\n",
       "<table border=\"1\" class=\"dataframe\">\n",
       "  <thead>\n",
       "    <tr style=\"text-align: right;\">\n",
       "      <th></th>\n",
       "      <th>BYOB</th>\n",
       "      <th>DriveThru</th>\n",
       "      <th>RestaurantsGoodForGroups</th>\n",
       "      <th>HasTV</th>\n",
       "      <th>BYOBCorkage</th>\n",
       "      <th>Alcohol</th>\n",
       "      <th>BusinessAcceptsBitcoin</th>\n",
       "      <th>background_music</th>\n",
       "      <th>live</th>\n",
       "      <th>dinner</th>\n",
       "      <th>GoodForKids</th>\n",
       "      <th>WiFi</th>\n",
       "    </tr>\n",
       "  </thead>\n",
       "  <tbody>\n",
       "    <tr>\n",
       "      <th>5</th>\n",
       "      <td>NaN</td>\n",
       "      <td>NaN</td>\n",
       "      <td>NaN</td>\n",
       "      <td>NaN</td>\n",
       "      <td>NaN</td>\n",
       "      <td>NaN</td>\n",
       "      <td>NaN</td>\n",
       "      <td>NaN</td>\n",
       "      <td>NaN</td>\n",
       "      <td>NaN</td>\n",
       "      <td>NaN</td>\n",
       "      <td>NaN</td>\n",
       "    </tr>\n",
       "    <tr>\n",
       "      <th>8</th>\n",
       "      <td>NaN</td>\n",
       "      <td>NaN</td>\n",
       "      <td>NaN</td>\n",
       "      <td>NaN</td>\n",
       "      <td>NaN</td>\n",
       "      <td>NaN</td>\n",
       "      <td>NaN</td>\n",
       "      <td>NaN</td>\n",
       "      <td>NaN</td>\n",
       "      <td>NaN</td>\n",
       "      <td>NaN</td>\n",
       "      <td>NaN</td>\n",
       "    </tr>\n",
       "    <tr>\n",
       "      <th>19</th>\n",
       "      <td>NaN</td>\n",
       "      <td>NaN</td>\n",
       "      <td>NaN</td>\n",
       "      <td>NaN</td>\n",
       "      <td>NaN</td>\n",
       "      <td>NaN</td>\n",
       "      <td>NaN</td>\n",
       "      <td>NaN</td>\n",
       "      <td>NaN</td>\n",
       "      <td>NaN</td>\n",
       "      <td>NaN</td>\n",
       "      <td>NaN</td>\n",
       "    </tr>\n",
       "    <tr>\n",
       "      <th>30</th>\n",
       "      <td>NaN</td>\n",
       "      <td>NaN</td>\n",
       "      <td>True</td>\n",
       "      <td>False</td>\n",
       "      <td>NaN</td>\n",
       "      <td>'beer_and_wine'</td>\n",
       "      <td>NaN</td>\n",
       "      <td>NaN</td>\n",
       "      <td>NaN</td>\n",
       "      <td>NaN</td>\n",
       "      <td>True</td>\n",
       "      <td>u'no'</td>\n",
       "    </tr>\n",
       "    <tr>\n",
       "      <th>34</th>\n",
       "      <td>NaN</td>\n",
       "      <td>NaN</td>\n",
       "      <td>False</td>\n",
       "      <td>False</td>\n",
       "      <td>NaN</td>\n",
       "      <td>'none'</td>\n",
       "      <td>NaN</td>\n",
       "      <td>NaN</td>\n",
       "      <td>NaN</td>\n",
       "      <td>NaN</td>\n",
       "      <td>True</td>\n",
       "      <td>'no'</td>\n",
       "    </tr>\n",
       "    <tr>\n",
       "      <th>...</th>\n",
       "      <td>...</td>\n",
       "      <td>...</td>\n",
       "      <td>...</td>\n",
       "      <td>...</td>\n",
       "      <td>...</td>\n",
       "      <td>...</td>\n",
       "      <td>...</td>\n",
       "      <td>...</td>\n",
       "      <td>...</td>\n",
       "      <td>...</td>\n",
       "      <td>...</td>\n",
       "      <td>...</td>\n",
       "    </tr>\n",
       "    <tr>\n",
       "      <th>3379</th>\n",
       "      <td>NaN</td>\n",
       "      <td>NaN</td>\n",
       "      <td>NaN</td>\n",
       "      <td>NaN</td>\n",
       "      <td>NaN</td>\n",
       "      <td>NaN</td>\n",
       "      <td>NaN</td>\n",
       "      <td>NaN</td>\n",
       "      <td>NaN</td>\n",
       "      <td>NaN</td>\n",
       "      <td>NaN</td>\n",
       "      <td>NaN</td>\n",
       "    </tr>\n",
       "    <tr>\n",
       "      <th>3396</th>\n",
       "      <td>NaN</td>\n",
       "      <td>NaN</td>\n",
       "      <td>NaN</td>\n",
       "      <td>NaN</td>\n",
       "      <td>NaN</td>\n",
       "      <td>NaN</td>\n",
       "      <td>NaN</td>\n",
       "      <td>NaN</td>\n",
       "      <td>NaN</td>\n",
       "      <td>NaN</td>\n",
       "      <td>NaN</td>\n",
       "      <td>NaN</td>\n",
       "    </tr>\n",
       "    <tr>\n",
       "      <th>3404</th>\n",
       "      <td>NaN</td>\n",
       "      <td>NaN</td>\n",
       "      <td>True</td>\n",
       "      <td>False</td>\n",
       "      <td>NaN</td>\n",
       "      <td>'none'</td>\n",
       "      <td>NaN</td>\n",
       "      <td>NaN</td>\n",
       "      <td>NaN</td>\n",
       "      <td>False</td>\n",
       "      <td>True</td>\n",
       "      <td>'free'</td>\n",
       "    </tr>\n",
       "    <tr>\n",
       "      <th>3407</th>\n",
       "      <td>NaN</td>\n",
       "      <td>NaN</td>\n",
       "      <td>True</td>\n",
       "      <td>True</td>\n",
       "      <td>NaN</td>\n",
       "      <td>'none'</td>\n",
       "      <td>NaN</td>\n",
       "      <td>NaN</td>\n",
       "      <td>NaN</td>\n",
       "      <td>True</td>\n",
       "      <td>True</td>\n",
       "      <td>u'no'</td>\n",
       "    </tr>\n",
       "    <tr>\n",
       "      <th>3417</th>\n",
       "      <td>NaN</td>\n",
       "      <td>NaN</td>\n",
       "      <td>NaN</td>\n",
       "      <td>NaN</td>\n",
       "      <td>NaN</td>\n",
       "      <td>NaN</td>\n",
       "      <td>NaN</td>\n",
       "      <td>NaN</td>\n",
       "      <td>NaN</td>\n",
       "      <td>NaN</td>\n",
       "      <td>NaN</td>\n",
       "      <td>'no'</td>\n",
       "    </tr>\n",
       "  </tbody>\n",
       "</table>\n",
       "<p>348 rows × 12 columns</p>\n",
       "</div>"
      ],
      "text/plain": [
       "     BYOB DriveThru RestaurantsGoodForGroups  HasTV BYOBCorkage  \\\n",
       "5     NaN       NaN                      NaN    NaN         NaN   \n",
       "8     NaN       NaN                      NaN    NaN         NaN   \n",
       "19    NaN       NaN                      NaN    NaN         NaN   \n",
       "30    NaN       NaN                     True  False         NaN   \n",
       "34    NaN       NaN                    False  False         NaN   \n",
       "...   ...       ...                      ...    ...         ...   \n",
       "3379  NaN       NaN                      NaN    NaN         NaN   \n",
       "3396  NaN       NaN                      NaN    NaN         NaN   \n",
       "3404  NaN       NaN                     True  False         NaN   \n",
       "3407  NaN       NaN                     True   True         NaN   \n",
       "3417  NaN       NaN                      NaN    NaN         NaN   \n",
       "\n",
       "              Alcohol BusinessAcceptsBitcoin background_music live dinner  \\\n",
       "5                 NaN                    NaN              NaN  NaN    NaN   \n",
       "8                 NaN                    NaN              NaN  NaN    NaN   \n",
       "19                NaN                    NaN              NaN  NaN    NaN   \n",
       "30    'beer_and_wine'                    NaN              NaN  NaN    NaN   \n",
       "34             'none'                    NaN              NaN  NaN    NaN   \n",
       "...               ...                    ...              ...  ...    ...   \n",
       "3379              NaN                    NaN              NaN  NaN    NaN   \n",
       "3396              NaN                    NaN              NaN  NaN    NaN   \n",
       "3404           'none'                    NaN              NaN  NaN  False   \n",
       "3407           'none'                    NaN              NaN  NaN   True   \n",
       "3417              NaN                    NaN              NaN  NaN    NaN   \n",
       "\n",
       "     GoodForKids    WiFi  \n",
       "5            NaN     NaN  \n",
       "8            NaN     NaN  \n",
       "19           NaN     NaN  \n",
       "30          True   u'no'  \n",
       "34          True    'no'  \n",
       "...          ...     ...  \n",
       "3379         NaN     NaN  \n",
       "3396         NaN     NaN  \n",
       "3404        True  'free'  \n",
       "3407        True   u'no'  \n",
       "3417         NaN    'no'  \n",
       "\n",
       "[348 rows x 12 columns]"
      ]
     },
     "execution_count": 69,
     "metadata": {},
     "output_type": "execute_result"
    }
   ],
   "source": [
    "portland[valid]"
   ]
  },
  {
   "cell_type": "code",
   "execution_count": 55,
   "metadata": {},
   "outputs": [],
   "source": [
    "valid = valid.remove('stars')"
   ]
  },
  {
   "cell_type": "code",
   "execution_count": 70,
   "metadata": {},
   "outputs": [
    {
     "data": {
      "image/png": "[encoded data removed]",
      "text/plain": [
       "<Figure size 360x360 with 1 Axes>"
      ]
     },
     "metadata": {
      "needs_background": "light"
     },
     "output_type": "display_data"
    },
    {
     "data": {
      "image/png": "[encoded data removed]",
      "text/plain": [
       "<Figure size 360x360 with 1 Axes>"
      ]
     },
     "metadata": {
      "needs_background": "light"
     },
     "output_type": "display_data"
    },
    {
     "data": {
      "image/png": "[encoded data removed]",
      "text/plain": [
       "<Figure size 360x360 with 1 Axes>"
      ]
     },
     "metadata": {
      "needs_background": "light"
     },
     "output_type": "display_data"
    },
    {
     "data": {
      "image/png": "[encoded data removed]",
      "text/plain": [
       "<Figure size 360x360 with 1 Axes>"
      ]
     },
     "metadata": {
      "needs_background": "light"
     },
     "output_type": "display_data"
    },
    {
     "data": {
      "image/png": "[encoded data removed]",
      "text/plain": [
       "<Figure size 360x360 with 1 Axes>"
      ]
     },
     "metadata": {
      "needs_background": "light"
     },
     "output_type": "display_data"
    },
    {
     "data": {
      "image/png": "[encoded data removed]",
      "text/plain": [
       "<Figure size 360x360 with 1 Axes>"
      ]
     },
     "metadata": {
      "needs_background": "light"
     },
     "output_type": "display_data"
    },
    {
     "data": {
      "image/png": "[encoded data removed]",
      "text/plain": [
       "<Figure size 360x360 with 1 Axes>"
      ]
     },
     "metadata": {
      "needs_background": "light"
     },
     "output_type": "display_data"
    },
    {
     "data": {
      "image/png": "[encoded data removed]",
      "text/plain": [
       "<Figure size 360x360 with 1 Axes>"
      ]
     },
     "metadata": {
      "needs_background": "light"
     },
     "output_type": "display_data"
    },
    {
     "data": {
      "image/png": "[encoded data removed]",
      "text/plain": [
       "<Figure size 360x360 with 1 Axes>"
      ]
     },
     "metadata": {
      "needs_background": "light"
     },
     "output_type": "display_data"
    },
    {
     "data": {
      "image/png": "[encoded data removed]",
      "text/plain": [
       "<Figure size 360x360 with 1 Axes>"
      ]
     },
     "metadata": {
      "needs_background": "light"
     },
     "output_type": "display_data"
    },
    {
     "data": {
      "image/png": "[encoded data removed]",
      "text/plain": [
       "<Figure size 360x360 with 1 Axes>"
      ]
     },
     "metadata": {
      "needs_background": "light"
     },
     "output_type": "display_data"
    },
    {
     "data": {
      "image/png": "[encoded data removed]",
      "text/plain": [
       "<Figure size 360x360 with 1 Axes>"
      ]
     },
     "metadata": {
      "needs_background": "light"
     },
     "output_type": "display_data"
    }
   ],
   "source": [
    "data = p.DataFrame()\n",
    "data['stars'] = portland['stars']\n",
    "for item in valid:\n",
    "    d = portland[item]\n",
    "    d = p.Categorical(d)\n",
    "    if 'None' in d:\n",
    "        d = d.fillna('None')\n",
    "    else:\n",
    "        d = d.add_categories('None').fillna(\"None\")\n",
    "    d.replace('none', 'None')\n",
    "    d.replace(\"'none'\", \"None\")\n",
    "    data[item] = d\n",
    "    sns.catplot(x = item, y='stars', kind=\"box\", data = data).savefig(str(item)+'.png')"
   ]
  },
  {
   "cell_type": "code",
   "execution_count": 63,
   "metadata": {},
   "outputs": [
    {
     "data": {
      "text/html": [
       "<div>\n",
       "<style scoped>\n",
       "    .dataframe tbody tr th:only-of-type {\n",
       "        vertical-align: middle;\n",
       "    }\n",
       "\n",
       "    .dataframe tbody tr th {\n",
       "        vertical-align: top;\n",
       "    }\n",
       "\n",
       "    .dataframe thead th {\n",
       "        text-align: right;\n",
       "    }\n",
       "</style>\n",
       "<table border=\"1\" class=\"dataframe\">\n",
       "  <thead>\n",
       "    <tr style=\"text-align: right;\">\n",
       "      <th></th>\n",
       "      <th>business_id</th>\n",
       "      <th>name</th>\n",
       "      <th>address</th>\n",
       "      <th>city</th>\n",
       "      <th>state</th>\n",
       "      <th>postal_code</th>\n",
       "      <th>latitude</th>\n",
       "      <th>longitude</th>\n",
       "      <th>stars</th>\n",
       "      <th>review_count</th>\n",
       "      <th>...</th>\n",
       "      <th>sunday</th>\n",
       "      <th>saturday</th>\n",
       "      <th>DietaryRestrictions</th>\n",
       "      <th>dairy-free</th>\n",
       "      <th>gluten-free</th>\n",
       "      <th>vegan</th>\n",
       "      <th>kosher</th>\n",
       "      <th>halal</th>\n",
       "      <th>soy-free</th>\n",
       "      <th>vegetarian</th>\n",
       "    </tr>\n",
       "  </thead>\n",
       "  <tbody>\n",
       "    <tr>\n",
       "      <th>187</th>\n",
       "      <td>7DPJgMPt7og9rZxH_nI9Bw</td>\n",
       "      <td>Bridge City Cafe - Lloyd Center</td>\n",
       "      <td>2304 Lloyd Ctr</td>\n",
       "      <td>Portland</td>\n",
       "      <td>OR</td>\n",
       "      <td>97232</td>\n",
       "      <td>45.532551</td>\n",
       "      <td>-122.653594</td>\n",
       "      <td>3.0</td>\n",
       "      <td>44</td>\n",
       "      <td>...</td>\n",
       "      <td>NaN</td>\n",
       "      <td>NaN</td>\n",
       "      <td>0</td>\n",
       "      <td>NaN</td>\n",
       "      <td>NaN</td>\n",
       "      <td>NaN</td>\n",
       "      <td>NaN</td>\n",
       "      <td>NaN</td>\n",
       "      <td>NaN</td>\n",
       "      <td>NaN</td>\n",
       "    </tr>\n",
       "    <tr>\n",
       "      <th>192</th>\n",
       "      <td>0nMbLN0B5I-2tNnQLSo86w</td>\n",
       "      <td>Starbucks</td>\n",
       "      <td>1510 NE 122nd Ave</td>\n",
       "      <td>Portland</td>\n",
       "      <td>OR</td>\n",
       "      <td>97230</td>\n",
       "      <td>45.533837</td>\n",
       "      <td>-122.537340</td>\n",
       "      <td>3.0</td>\n",
       "      <td>19</td>\n",
       "      <td>...</td>\n",
       "      <td>NaN</td>\n",
       "      <td>NaN</td>\n",
       "      <td>0</td>\n",
       "      <td>NaN</td>\n",
       "      <td>NaN</td>\n",
       "      <td>NaN</td>\n",
       "      <td>NaN</td>\n",
       "      <td>NaN</td>\n",
       "      <td>NaN</td>\n",
       "      <td>NaN</td>\n",
       "    </tr>\n",
       "    <tr>\n",
       "      <th>330</th>\n",
       "      <td>25q3tk3fQC4_6RZobcuA4Q</td>\n",
       "      <td>Wetzel's Pretzels</td>\n",
       "      <td>9585 SW Washington Sq., Space #J03</td>\n",
       "      <td>Portland</td>\n",
       "      <td>OR</td>\n",
       "      <td>97223</td>\n",
       "      <td>45.451128</td>\n",
       "      <td>-122.781618</td>\n",
       "      <td>3.0</td>\n",
       "      <td>10</td>\n",
       "      <td>...</td>\n",
       "      <td>NaN</td>\n",
       "      <td>NaN</td>\n",
       "      <td>0</td>\n",
       "      <td>NaN</td>\n",
       "      <td>NaN</td>\n",
       "      <td>NaN</td>\n",
       "      <td>NaN</td>\n",
       "      <td>NaN</td>\n",
       "      <td>NaN</td>\n",
       "      <td>NaN</td>\n",
       "    </tr>\n",
       "    <tr>\n",
       "      <th>436</th>\n",
       "      <td>Kb7V-qHRgm5uq4TzHeY3uw</td>\n",
       "      <td>Baskin-Robbins 31 Ice Cream Stores</td>\n",
       "      <td>475 NE 181st Ave</td>\n",
       "      <td>Portland</td>\n",
       "      <td>OR</td>\n",
       "      <td>97230</td>\n",
       "      <td>45.525503</td>\n",
       "      <td>-122.478777</td>\n",
       "      <td>3.0</td>\n",
       "      <td>10</td>\n",
       "      <td>...</td>\n",
       "      <td>NaN</td>\n",
       "      <td>NaN</td>\n",
       "      <td>0</td>\n",
       "      <td>NaN</td>\n",
       "      <td>NaN</td>\n",
       "      <td>NaN</td>\n",
       "      <td>NaN</td>\n",
       "      <td>NaN</td>\n",
       "      <td>NaN</td>\n",
       "      <td>NaN</td>\n",
       "    </tr>\n",
       "    <tr>\n",
       "      <th>606</th>\n",
       "      <td>nDnS4FV1kkMGfXcrmXKibw</td>\n",
       "      <td>The Decorette Shop</td>\n",
       "      <td>5338 SE Foster Rd</td>\n",
       "      <td>Portland</td>\n",
       "      <td>OR</td>\n",
       "      <td>97206</td>\n",
       "      <td>45.494746</td>\n",
       "      <td>-122.607535</td>\n",
       "      <td>3.0</td>\n",
       "      <td>23</td>\n",
       "      <td>...</td>\n",
       "      <td>NaN</td>\n",
       "      <td>NaN</td>\n",
       "      <td>0</td>\n",
       "      <td>NaN</td>\n",
       "      <td>NaN</td>\n",
       "      <td>NaN</td>\n",
       "      <td>NaN</td>\n",
       "      <td>NaN</td>\n",
       "      <td>NaN</td>\n",
       "      <td>NaN</td>\n",
       "    </tr>\n",
       "    <tr>\n",
       "      <th>796</th>\n",
       "      <td>czeylzYMfnmOiKN9W-rN8Q</td>\n",
       "      <td>Corner Bakery Cafe</td>\n",
       "      <td>7455 SW Bridgeport Rd</td>\n",
       "      <td>Portland</td>\n",
       "      <td>OR</td>\n",
       "      <td>97224</td>\n",
       "      <td>45.395572</td>\n",
       "      <td>-122.751600</td>\n",
       "      <td>3.0</td>\n",
       "      <td>43</td>\n",
       "      <td>...</td>\n",
       "      <td>NaN</td>\n",
       "      <td>NaN</td>\n",
       "      <td>0</td>\n",
       "      <td>NaN</td>\n",
       "      <td>NaN</td>\n",
       "      <td>NaN</td>\n",
       "      <td>NaN</td>\n",
       "      <td>NaN</td>\n",
       "      <td>NaN</td>\n",
       "      <td>NaN</td>\n",
       "    </tr>\n",
       "    <tr>\n",
       "      <th>1011</th>\n",
       "      <td>A0zR7nuYE_P7fWCCcrwong</td>\n",
       "      <td>Madrona Hill Cafe</td>\n",
       "      <td>5937 N Greeley Ave</td>\n",
       "      <td>Portland</td>\n",
       "      <td>OR</td>\n",
       "      <td>97217</td>\n",
       "      <td>45.566267</td>\n",
       "      <td>-122.695766</td>\n",
       "      <td>3.0</td>\n",
       "      <td>39</td>\n",
       "      <td>...</td>\n",
       "      <td>NaN</td>\n",
       "      <td>NaN</td>\n",
       "      <td>0</td>\n",
       "      <td>NaN</td>\n",
       "      <td>NaN</td>\n",
       "      <td>NaN</td>\n",
       "      <td>NaN</td>\n",
       "      <td>NaN</td>\n",
       "      <td>NaN</td>\n",
       "      <td>NaN</td>\n",
       "    </tr>\n",
       "    <tr>\n",
       "      <th>1138</th>\n",
       "      <td>UaXLppX03DdHu_hYNWEoIw</td>\n",
       "      <td>Franz Bakery</td>\n",
       "      <td>8440 SE 45th Ave</td>\n",
       "      <td>Portland</td>\n",
       "      <td>OR</td>\n",
       "      <td>97222</td>\n",
       "      <td>45.462769</td>\n",
       "      <td>-122.615367</td>\n",
       "      <td>3.0</td>\n",
       "      <td>8</td>\n",
       "      <td>...</td>\n",
       "      <td>NaN</td>\n",
       "      <td>NaN</td>\n",
       "      <td>0</td>\n",
       "      <td>NaN</td>\n",
       "      <td>NaN</td>\n",
       "      <td>NaN</td>\n",
       "      <td>NaN</td>\n",
       "      <td>NaN</td>\n",
       "      <td>NaN</td>\n",
       "      <td>NaN</td>\n",
       "    </tr>\n",
       "    <tr>\n",
       "      <th>1293</th>\n",
       "      <td>NAmJpv_ltOSMgjEKt9tmKg</td>\n",
       "      <td>Panera Cares</td>\n",
       "      <td>4143 NE Halsey St</td>\n",
       "      <td>Portland</td>\n",
       "      <td>OR</td>\n",
       "      <td>97232</td>\n",
       "      <td>45.534601</td>\n",
       "      <td>-122.620520</td>\n",
       "      <td>3.0</td>\n",
       "      <td>68</td>\n",
       "      <td>...</td>\n",
       "      <td>NaN</td>\n",
       "      <td>NaN</td>\n",
       "      <td>0</td>\n",
       "      <td>NaN</td>\n",
       "      <td>NaN</td>\n",
       "      <td>NaN</td>\n",
       "      <td>NaN</td>\n",
       "      <td>NaN</td>\n",
       "      <td>NaN</td>\n",
       "      <td>NaN</td>\n",
       "    </tr>\n",
       "    <tr>\n",
       "      <th>1385</th>\n",
       "      <td>QyjMD4ZFz6U9iszDofG07g</td>\n",
       "      <td>Shari's Cafe and Pies</td>\n",
       "      <td>7451 SW Garden Home Rd</td>\n",
       "      <td>Portland</td>\n",
       "      <td>OR</td>\n",
       "      <td>97223</td>\n",
       "      <td>45.466039</td>\n",
       "      <td>-122.752702</td>\n",
       "      <td>3.0</td>\n",
       "      <td>51</td>\n",
       "      <td>...</td>\n",
       "      <td>NaN</td>\n",
       "      <td>NaN</td>\n",
       "      <td>0</td>\n",
       "      <td>NaN</td>\n",
       "      <td>NaN</td>\n",
       "      <td>NaN</td>\n",
       "      <td>NaN</td>\n",
       "      <td>NaN</td>\n",
       "      <td>NaN</td>\n",
       "      <td>NaN</td>\n",
       "    </tr>\n",
       "    <tr>\n",
       "      <th>1469</th>\n",
       "      <td>aDBNDn6lNqSuSoNvahecyQ</td>\n",
       "      <td>Fred Meyer</td>\n",
       "      <td>7555 SW Barbur Blvd</td>\n",
       "      <td>Portland</td>\n",
       "      <td>OR</td>\n",
       "      <td>97219</td>\n",
       "      <td>45.470521</td>\n",
       "      <td>-122.690539</td>\n",
       "      <td>3.0</td>\n",
       "      <td>126</td>\n",
       "      <td>...</td>\n",
       "      <td>NaN</td>\n",
       "      <td>NaN</td>\n",
       "      <td>0</td>\n",
       "      <td>NaN</td>\n",
       "      <td>NaN</td>\n",
       "      <td>NaN</td>\n",
       "      <td>NaN</td>\n",
       "      <td>NaN</td>\n",
       "      <td>NaN</td>\n",
       "      <td>NaN</td>\n",
       "    </tr>\n",
       "    <tr>\n",
       "      <th>2198</th>\n",
       "      <td>8JqM5G_y0VOw3wlvTl17_Q</td>\n",
       "      <td>Rose's Deli &amp; Bakery</td>\n",
       "      <td>838 NW 23rd Ave</td>\n",
       "      <td>Portland</td>\n",
       "      <td>OR</td>\n",
       "      <td>97210</td>\n",
       "      <td>45.528958</td>\n",
       "      <td>-122.698434</td>\n",
       "      <td>3.0</td>\n",
       "      <td>63</td>\n",
       "      <td>...</td>\n",
       "      <td>NaN</td>\n",
       "      <td>NaN</td>\n",
       "      <td>0</td>\n",
       "      <td>NaN</td>\n",
       "      <td>NaN</td>\n",
       "      <td>NaN</td>\n",
       "      <td>NaN</td>\n",
       "      <td>NaN</td>\n",
       "      <td>NaN</td>\n",
       "      <td>NaN</td>\n",
       "    </tr>\n",
       "    <tr>\n",
       "      <th>2208</th>\n",
       "      <td>vVdD8heYO10aErcB-QZ3Lg</td>\n",
       "      <td>Broadway Grill &amp; Brewery</td>\n",
       "      <td>1700 NE Broadway St</td>\n",
       "      <td>Portland</td>\n",
       "      <td>OR</td>\n",
       "      <td>97232</td>\n",
       "      <td>45.534984</td>\n",
       "      <td>-122.648245</td>\n",
       "      <td>3.0</td>\n",
       "      <td>191</td>\n",
       "      <td>...</td>\n",
       "      <td>True</td>\n",
       "      <td>True</td>\n",
       "      <td>0</td>\n",
       "      <td>NaN</td>\n",
       "      <td>NaN</td>\n",
       "      <td>NaN</td>\n",
       "      <td>NaN</td>\n",
       "      <td>NaN</td>\n",
       "      <td>NaN</td>\n",
       "      <td>NaN</td>\n",
       "    </tr>\n",
       "    <tr>\n",
       "      <th>2292</th>\n",
       "      <td>Y0TVjJ1AwdMhpX-eTCm7-Q</td>\n",
       "      <td>Baskin Robbins</td>\n",
       "      <td>10910 SW Barnes Rd</td>\n",
       "      <td>Portland</td>\n",
       "      <td>OR</td>\n",
       "      <td>97225</td>\n",
       "      <td>45.514451</td>\n",
       "      <td>-122.789181</td>\n",
       "      <td>3.0</td>\n",
       "      <td>11</td>\n",
       "      <td>...</td>\n",
       "      <td>NaN</td>\n",
       "      <td>NaN</td>\n",
       "      <td>0</td>\n",
       "      <td>NaN</td>\n",
       "      <td>NaN</td>\n",
       "      <td>NaN</td>\n",
       "      <td>NaN</td>\n",
       "      <td>NaN</td>\n",
       "      <td>NaN</td>\n",
       "      <td>NaN</td>\n",
       "    </tr>\n",
       "    <tr>\n",
       "      <th>2370</th>\n",
       "      <td>PabxJ2JOgtnIYnDD68AzKA</td>\n",
       "      <td>Russian Elegance Food</td>\n",
       "      <td>6911 SE Foster Rd</td>\n",
       "      <td>Portland</td>\n",
       "      <td>OR</td>\n",
       "      <td>97206</td>\n",
       "      <td>45.488179</td>\n",
       "      <td>-122.592252</td>\n",
       "      <td>3.0</td>\n",
       "      <td>7</td>\n",
       "      <td>...</td>\n",
       "      <td>NaN</td>\n",
       "      <td>NaN</td>\n",
       "      <td>0</td>\n",
       "      <td>NaN</td>\n",
       "      <td>NaN</td>\n",
       "      <td>NaN</td>\n",
       "      <td>NaN</td>\n",
       "      <td>NaN</td>\n",
       "      <td>NaN</td>\n",
       "      <td>NaN</td>\n",
       "    </tr>\n",
       "    <tr>\n",
       "      <th>2819</th>\n",
       "      <td>jAOn967-Fz3z7zmxyXduRQ</td>\n",
       "      <td>Lili Patisserie</td>\n",
       "      <td>8337 SE 17th Ave</td>\n",
       "      <td>Portland</td>\n",
       "      <td>OR</td>\n",
       "      <td>97202</td>\n",
       "      <td>45.462405</td>\n",
       "      <td>-122.647350</td>\n",
       "      <td>3.0</td>\n",
       "      <td>40</td>\n",
       "      <td>...</td>\n",
       "      <td>NaN</td>\n",
       "      <td>NaN</td>\n",
       "      <td>0</td>\n",
       "      <td>NaN</td>\n",
       "      <td>NaN</td>\n",
       "      <td>NaN</td>\n",
       "      <td>NaN</td>\n",
       "      <td>NaN</td>\n",
       "      <td>NaN</td>\n",
       "      <td>NaN</td>\n",
       "    </tr>\n",
       "    <tr>\n",
       "      <th>3095</th>\n",
       "      <td>squiruqfzgyjJMEy-qstfg</td>\n",
       "      <td>Franz Bakery Outlet Store</td>\n",
       "      <td>14510 SE Stark St</td>\n",
       "      <td>Portland</td>\n",
       "      <td>OR</td>\n",
       "      <td>97233</td>\n",
       "      <td>45.518841</td>\n",
       "      <td>-122.513878</td>\n",
       "      <td>3.0</td>\n",
       "      <td>6</td>\n",
       "      <td>...</td>\n",
       "      <td>NaN</td>\n",
       "      <td>NaN</td>\n",
       "      <td>0</td>\n",
       "      <td>NaN</td>\n",
       "      <td>NaN</td>\n",
       "      <td>NaN</td>\n",
       "      <td>NaN</td>\n",
       "      <td>NaN</td>\n",
       "      <td>NaN</td>\n",
       "      <td>NaN</td>\n",
       "    </tr>\n",
       "    <tr>\n",
       "      <th>3107</th>\n",
       "      <td>uJc1KMOCs3Og9W5eKufQdg</td>\n",
       "      <td>Lee's Sandwiches</td>\n",
       "      <td>4124 SE 82nd Ave, Ste 788, Eastport Plaza Shop...</td>\n",
       "      <td>Portland</td>\n",
       "      <td>OR</td>\n",
       "      <td>97266</td>\n",
       "      <td>45.492638</td>\n",
       "      <td>-122.578024</td>\n",
       "      <td>3.0</td>\n",
       "      <td>165</td>\n",
       "      <td>...</td>\n",
       "      <td>NaN</td>\n",
       "      <td>NaN</td>\n",
       "      <td>0</td>\n",
       "      <td>NaN</td>\n",
       "      <td>NaN</td>\n",
       "      <td>NaN</td>\n",
       "      <td>NaN</td>\n",
       "      <td>NaN</td>\n",
       "      <td>NaN</td>\n",
       "      <td>NaN</td>\n",
       "    </tr>\n",
       "    <tr>\n",
       "      <th>3163</th>\n",
       "      <td>IZLJaXZQ6em8GHW4nzh-oQ</td>\n",
       "      <td>Sesame Donuts Cafe - Scholls Ferry</td>\n",
       "      <td>12700 SW North Dakota St, Ste 100</td>\n",
       "      <td>Portland</td>\n",
       "      <td>OR</td>\n",
       "      <td>97223</td>\n",
       "      <td>45.442932</td>\n",
       "      <td>-122.805607</td>\n",
       "      <td>3.0</td>\n",
       "      <td>87</td>\n",
       "      <td>...</td>\n",
       "      <td>NaN</td>\n",
       "      <td>NaN</td>\n",
       "      <td>0</td>\n",
       "      <td>NaN</td>\n",
       "      <td>NaN</td>\n",
       "      <td>NaN</td>\n",
       "      <td>NaN</td>\n",
       "      <td>NaN</td>\n",
       "      <td>NaN</td>\n",
       "      <td>NaN</td>\n",
       "    </tr>\n",
       "    <tr>\n",
       "      <th>3218</th>\n",
       "      <td>cPd9Ek8Ysc97TtOGeOEyZA</td>\n",
       "      <td>Zupan's Markets</td>\n",
       "      <td>3301 SE Belmont St</td>\n",
       "      <td>Portland</td>\n",
       "      <td>OR</td>\n",
       "      <td>97214</td>\n",
       "      <td>45.516577</td>\n",
       "      <td>-122.630775</td>\n",
       "      <td>3.0</td>\n",
       "      <td>84</td>\n",
       "      <td>...</td>\n",
       "      <td>NaN</td>\n",
       "      <td>NaN</td>\n",
       "      <td>0</td>\n",
       "      <td>NaN</td>\n",
       "      <td>NaN</td>\n",
       "      <td>NaN</td>\n",
       "      <td>NaN</td>\n",
       "      <td>NaN</td>\n",
       "      <td>NaN</td>\n",
       "      <td>NaN</td>\n",
       "    </tr>\n",
       "    <tr>\n",
       "      <th>3396</th>\n",
       "      <td>Af4nRI5SDVDb0Ve9EOHEKw</td>\n",
       "      <td>Franz</td>\n",
       "      <td>340 NE 11th Ave</td>\n",
       "      <td>Portland</td>\n",
       "      <td>OR</td>\n",
       "      <td>97232</td>\n",
       "      <td>45.525594</td>\n",
       "      <td>-122.655210</td>\n",
       "      <td>3.0</td>\n",
       "      <td>5</td>\n",
       "      <td>...</td>\n",
       "      <td>NaN</td>\n",
       "      <td>NaN</td>\n",
       "      <td>0</td>\n",
       "      <td>NaN</td>\n",
       "      <td>NaN</td>\n",
       "      <td>NaN</td>\n",
       "      <td>NaN</td>\n",
       "      <td>NaN</td>\n",
       "      <td>NaN</td>\n",
       "      <td>NaN</td>\n",
       "    </tr>\n",
       "  </tbody>\n",
       "</table>\n",
       "<p>21 rows × 98 columns</p>\n",
       "</div>"
      ],
      "text/plain": [
       "                 business_id                                name  \\\n",
       "187   7DPJgMPt7og9rZxH_nI9Bw     Bridge City Cafe - Lloyd Center   \n",
       "192   0nMbLN0B5I-2tNnQLSo86w                           Starbucks   \n",
       "330   25q3tk3fQC4_6RZobcuA4Q                   Wetzel's Pretzels   \n",
       "436   Kb7V-qHRgm5uq4TzHeY3uw  Baskin-Robbins 31 Ice Cream Stores   \n",
       "606   nDnS4FV1kkMGfXcrmXKibw                  The Decorette Shop   \n",
       "796   czeylzYMfnmOiKN9W-rN8Q                  Corner Bakery Cafe   \n",
       "1011  A0zR7nuYE_P7fWCCcrwong                   Madrona Hill Cafe   \n",
       "1138  UaXLppX03DdHu_hYNWEoIw                        Franz Bakery   \n",
       "1293  NAmJpv_ltOSMgjEKt9tmKg                        Panera Cares   \n",
       "1385  QyjMD4ZFz6U9iszDofG07g               Shari's Cafe and Pies   \n",
       "1469  aDBNDn6lNqSuSoNvahecyQ                          Fred Meyer   \n",
       "2198  8JqM5G_y0VOw3wlvTl17_Q                Rose's Deli & Bakery   \n",
       "2208  vVdD8heYO10aErcB-QZ3Lg            Broadway Grill & Brewery   \n",
       "2292  Y0TVjJ1AwdMhpX-eTCm7-Q                      Baskin Robbins   \n",
       "2370  PabxJ2JOgtnIYnDD68AzKA               Russian Elegance Food   \n",
       "2819  jAOn967-Fz3z7zmxyXduRQ                     Lili Patisserie   \n",
       "3095  squiruqfzgyjJMEy-qstfg           Franz Bakery Outlet Store   \n",
       "3107  uJc1KMOCs3Og9W5eKufQdg                    Lee's Sandwiches   \n",
       "3163  IZLJaXZQ6em8GHW4nzh-oQ  Sesame Donuts Cafe - Scholls Ferry   \n",
       "3218  cPd9Ek8Ysc97TtOGeOEyZA                     Zupan's Markets   \n",
       "3396  Af4nRI5SDVDb0Ve9EOHEKw                               Franz   \n",
       "\n",
       "                                                address      city state  \\\n",
       "187                                      2304 Lloyd Ctr  Portland    OR   \n",
       "192                                   1510 NE 122nd Ave  Portland    OR   \n",
       "330                  9585 SW Washington Sq., Space #J03  Portland    OR   \n",
       "436                                    475 NE 181st Ave  Portland    OR   \n",
       "606                                   5338 SE Foster Rd  Portland    OR   \n",
       "796                               7455 SW Bridgeport Rd  Portland    OR   \n",
       "1011                                 5937 N Greeley Ave  Portland    OR   \n",
       "1138                                   8440 SE 45th Ave  Portland    OR   \n",
       "1293                                  4143 NE Halsey St  Portland    OR   \n",
       "1385                             7451 SW Garden Home Rd  Portland    OR   \n",
       "1469                                7555 SW Barbur Blvd  Portland    OR   \n",
       "2198                                    838 NW 23rd Ave  Portland    OR   \n",
       "2208                                1700 NE Broadway St  Portland    OR   \n",
       "2292                                 10910 SW Barnes Rd  Portland    OR   \n",
       "2370                                  6911 SE Foster Rd  Portland    OR   \n",
       "2819                                   8337 SE 17th Ave  Portland    OR   \n",
       "3095                                  14510 SE Stark St  Portland    OR   \n",
       "3107  4124 SE 82nd Ave, Ste 788, Eastport Plaza Shop...  Portland    OR   \n",
       "3163                  12700 SW North Dakota St, Ste 100  Portland    OR   \n",
       "3218                                 3301 SE Belmont St  Portland    OR   \n",
       "3396                                    340 NE 11th Ave  Portland    OR   \n",
       "\n",
       "     postal_code   latitude   longitude  stars  review_count  ...  sunday  \\\n",
       "187        97232  45.532551 -122.653594    3.0            44  ...     NaN   \n",
       "192        97230  45.533837 -122.537340    3.0            19  ...     NaN   \n",
       "330        97223  45.451128 -122.781618    3.0            10  ...     NaN   \n",
       "436        97230  45.525503 -122.478777    3.0            10  ...     NaN   \n",
       "606        97206  45.494746 -122.607535    3.0            23  ...     NaN   \n",
       "796        97224  45.395572 -122.751600    3.0            43  ...     NaN   \n",
       "1011       97217  45.566267 -122.695766    3.0            39  ...     NaN   \n",
       "1138       97222  45.462769 -122.615367    3.0             8  ...     NaN   \n",
       "1293       97232  45.534601 -122.620520    3.0            68  ...     NaN   \n",
       "1385       97223  45.466039 -122.752702    3.0            51  ...     NaN   \n",
       "1469       97219  45.470521 -122.690539    3.0           126  ...     NaN   \n",
       "2198       97210  45.528958 -122.698434    3.0            63  ...     NaN   \n",
       "2208       97232  45.534984 -122.648245    3.0           191  ...    True   \n",
       "2292       97225  45.514451 -122.789181    3.0            11  ...     NaN   \n",
       "2370       97206  45.488179 -122.592252    3.0             7  ...     NaN   \n",
       "2819       97202  45.462405 -122.647350    3.0            40  ...     NaN   \n",
       "3095       97233  45.518841 -122.513878    3.0             6  ...     NaN   \n",
       "3107       97266  45.492638 -122.578024    3.0           165  ...     NaN   \n",
       "3163       97223  45.442932 -122.805607    3.0            87  ...     NaN   \n",
       "3218       97214  45.516577 -122.630775    3.0            84  ...     NaN   \n",
       "3396       97232  45.525594 -122.655210    3.0             5  ...     NaN   \n",
       "\n",
       "     saturday DietaryRestrictions dairy-free gluten-free vegan kosher  halal  \\\n",
       "187       NaN                   0        NaN         NaN   NaN    NaN    NaN   \n",
       "192       NaN                   0        NaN         NaN   NaN    NaN    NaN   \n",
       "330       NaN                   0        NaN         NaN   NaN    NaN    NaN   \n",
       "436       NaN                   0        NaN         NaN   NaN    NaN    NaN   \n",
       "606       NaN                   0        NaN         NaN   NaN    NaN    NaN   \n",
       "796       NaN                   0        NaN         NaN   NaN    NaN    NaN   \n",
       "1011      NaN                   0        NaN         NaN   NaN    NaN    NaN   \n",
       "1138      NaN                   0        NaN         NaN   NaN    NaN    NaN   \n",
       "1293      NaN                   0        NaN         NaN   NaN    NaN    NaN   \n",
       "1385      NaN                   0        NaN         NaN   NaN    NaN    NaN   \n",
       "1469      NaN                   0        NaN         NaN   NaN    NaN    NaN   \n",
       "2198      NaN                   0        NaN         NaN   NaN    NaN    NaN   \n",
       "2208     True                   0        NaN         NaN   NaN    NaN    NaN   \n",
       "2292      NaN                   0        NaN         NaN   NaN    NaN    NaN   \n",
       "2370      NaN                   0        NaN         NaN   NaN    NaN    NaN   \n",
       "2819      NaN                   0        NaN         NaN   NaN    NaN    NaN   \n",
       "3095      NaN                   0        NaN         NaN   NaN    NaN    NaN   \n",
       "3107      NaN                   0        NaN         NaN   NaN    NaN    NaN   \n",
       "3163      NaN                   0        NaN         NaN   NaN    NaN    NaN   \n",
       "3218      NaN                   0        NaN         NaN   NaN    NaN    NaN   \n",
       "3396      NaN                   0        NaN         NaN   NaN    NaN    NaN   \n",
       "\n",
       "     soy-free vegetarian  \n",
       "187       NaN        NaN  \n",
       "192       NaN        NaN  \n",
       "330       NaN        NaN  \n",
       "436       NaN        NaN  \n",
       "606       NaN        NaN  \n",
       "796       NaN        NaN  \n",
       "1011      NaN        NaN  \n",
       "1138      NaN        NaN  \n",
       "1293      NaN        NaN  \n",
       "1385      NaN        NaN  \n",
       "1469      NaN        NaN  \n",
       "2198      NaN        NaN  \n",
       "2208      NaN        NaN  \n",
       "2292      NaN        NaN  \n",
       "2370      NaN        NaN  \n",
       "2819      NaN        NaN  \n",
       "3095      NaN        NaN  \n",
       "3107      NaN        NaN  \n",
       "3163      NaN        NaN  \n",
       "3218      NaN        NaN  \n",
       "3396      NaN        NaN  \n",
       "\n",
       "[21 rows x 98 columns]"
      ]
     },
     "execution_count": 63,
     "metadata": {},
     "output_type": "execute_result"
    }
   ],
   "source": [
    "portland[portland.stars == 3.0]"
   ]
  },
  {
   "cell_type": "code",
   "execution_count": null,
   "metadata": {},
   "outputs": [],
   "source": []
  },
  {
   "cell_type": "code",
   "execution_count": null,
   "metadata": {},
   "outputs": [],
   "source": []
  }
 ],
 "metadata": {
  "kernelspec": {
   "display_name": "Python 3",
   "language": "python",
   "name": "python3"
  },
  "language_info": {
   "codemirror_mode": {
    "name": "ipython",
    "version": 3
   },
   "file_extension": ".py",
   "mimetype": "text/x-python",
   "name": "python",
   "nbconvert_exporter": "python",
   "pygments_lexer": "ipython3",
   "version": "3.8.5"
  }
 },
 "nbformat": 4,
 "nbformat_minor": 4
}
