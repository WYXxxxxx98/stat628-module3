{
 "cells": [
  {
   "cell_type": "code",
   "execution_count": 1,
   "id": "0ddb464f",
   "metadata": {},
   "outputs": [
    {
     "name": "stderr",
     "output_type": "stream",
     "text": [
      "C:\\Users\\25900\\AppData\\Local\\Temp/ipykernel_8168/4006241455.py:9: UserWarning: \n",
      "The dash_core_components package is deprecated. Please replace\n",
      "`import dash_core_components as dcc` with `from dash import dcc`\n",
      "  import dash_core_components as dcc\n",
      "C:\\Users\\25900\\AppData\\Local\\Temp/ipykernel_8168/4006241455.py:10: UserWarning: \n",
      "The dash_html_components package is deprecated. Please replace\n",
      "`import dash_html_components as html` with `from dash import html`\n",
      "  import dash_html_components as html\n"
     ]
    }
   ],
   "source": [
    "from wordcloud import WordCloud\n",
    "import matplotlib.pyplot as plt\n",
    "from nltk import word_tokenize\n",
    "import nltk\n",
    "from textblob import TextBlob\n",
    "\n",
    "import dash\n",
    "from dash.dependencies import Input, Output\n",
    "import dash_core_components as dcc\n",
    "import dash_html_components as html\n",
    "\n",
    "from pandas_datareader import data as web\n",
    "from datetime import datetime as dt\n",
    "\n",
    "import pandas as pd"
   ]
  },
  {
   "cell_type": "code",
   "execution_count": 2,
   "id": "60da03c0",
   "metadata": {},
   "outputs": [],
   "source": [
    "import json\n",
    "review = []\n",
    "with open(\"bakery_review.json\", 'r') as f:\n",
    "    review = json.loads(f.read())\n",
    "f.close()"
   ]
  },
  {
   "cell_type": "code",
   "execution_count": 3,
   "id": "4f60e41e",
   "metadata": {},
   "outputs": [
    {
     "name": "stdout",
     "output_type": "stream",
     "text": [
      "0\n",
      "50000\n",
      "100000\n",
      "150000\n",
      "200000\n",
      "250000\n",
      "300000\n",
      "350000\n"
     ]
    }
   ],
   "source": [
    "review_near_pos = []\n",
    "review_near_neg = []\n",
    "for i, item in enumerate(review):\n",
    "    if i % 50000 == 0:\n",
    "        print(i)\n",
    "    if item['stars'] == 5 and item['business_id'] == '4CxF8c3MB7VAdY8zFb2cZQ':\n",
    "        review_near_pos.append(item)\n",
    "    if item['stars'] <= 3 and item['business_id'] == '4CxF8c3MB7VAdY8zFb2cZQ':\n",
    "        review_near_neg.append(item)"
   ]
  },
  {
   "cell_type": "code",
   "execution_count": 4,
   "id": "0e78f083",
   "metadata": {},
   "outputs": [],
   "source": [
    "menu = pd.read_csv(\"voodoo.csv\", header = None).values.tolist()\n",
    "options = []\n",
    "for item in menu:\n",
    "    options.append({'label': item[0], 'value': item[0]})"
   ]
  },
  {
   "cell_type": "code",
   "execution_count": null,
   "id": "858c4ce6",
   "metadata": {},
   "outputs": [
    {
     "name": "stdout",
     "output_type": "stream",
     "text": [
      "Dash is running on http://127.0.0.1:8050/\n",
      "\n",
      " * Serving Flask app \"Hello World\" (lazy loading)\n",
      " * Environment: production\n",
      "\u001b[31m   WARNING: This is a development server. Do not use it in a production deployment.\u001b[0m\n",
      "\u001b[2m   Use a production WSGI server instead.\u001b[0m\n",
      " * Debug mode: off\n"
     ]
    },
    {
     "name": "stderr",
     "output_type": "stream",
     "text": [
      " * Running on http://127.0.0.1:8050/ (Press CTRL+C to quit)\n",
      "127.0.0.1 - - [04/Dec/2021 23:50:47] \"GET / HTTP/1.1\" 200 -\n",
      "127.0.0.1 - - [04/Dec/2021 23:50:48] \"GET /_dash-layout HTTP/1.1\" 200 -\n",
      "127.0.0.1 - - [04/Dec/2021 23:50:48] \"GET /_dash-dependencies HTTP/1.1\" 200 -\n",
      "127.0.0.1 - - [04/Dec/2021 23:50:48] \"GET /_dash-component-suites/dash/dcc/async-dropdown.js HTTP/1.1\" 200 -\n",
      "127.0.0.1 - - [04/Dec/2021 23:50:48] \"GET /_dash-component-suites/dash/dcc/async-markdown.js HTTP/1.1\" 200 -\n",
      "127.0.0.1 - - [04/Dec/2021 23:50:48] \"GET /_dash-component-suites/dash/dcc/async-highlight.js HTTP/1.1\" 200 -\n",
      "127.0.0.1 - - [04/Dec/2021 23:50:49] \"POST /_dash-update-component HTTP/1.1\" 200 -\n",
      "127.0.0.1 - - [04/Dec/2021 23:50:49] \"POST /_dash-update-component HTTP/1.1\" 200 -\n",
      "127.0.0.1 - - [04/Dec/2021 23:53:56] \"POST /_dash-update-component HTTP/1.1\" 200 -\n",
      "127.0.0.1 - - [04/Dec/2021 23:53:56] \"POST /_dash-update-component HTTP/1.1\" 200 -\n",
      "127.0.0.1 - - [04/Dec/2021 23:53:59] \"POST /_dash-update-component HTTP/1.1\" 200 -\n",
      "127.0.0.1 - - [04/Dec/2021 23:53:59] \"POST /_dash-update-component HTTP/1.1\" 200 -\n"
     ]
    }
   ],
   "source": [
    "import plotly.graph_objs as go\n",
    "import pandas as pd\n",
    "import dash\n",
    "import dash_core_components as dcc\n",
    "import dash_html_components as html\n",
    "from dash.dependencies import Input, Output\n",
    "def update_result(x, r, sort):\n",
    "    out = []\n",
    "    anyy = 0\n",
    "    count = 0\n",
    "    items = []\n",
    "    for item in r:\n",
    "        k = 0\n",
    "        text = item['text'].lower()\n",
    "        for i in x.split():\n",
    "            if i.lower() in text:\n",
    "                k += 1\n",
    "        if k == len(x.split()):\n",
    "            anyy = 1\n",
    "            items.append(item)\n",
    "    if anyy == 0:\n",
    "        out.append(html.Br())\n",
    "        out.append('No Match')\n",
    "    else:\n",
    "        items = sorted(items, key=lambda d: d[sort], reverse=True)\n",
    "        for item in items:\n",
    "            count += 1\n",
    "            out.append(html.Br())\n",
    "            out.append('Comment ' + str(count))\n",
    "            out.append(html.Br())\n",
    "            out.append('stars:'+str(item['stars']) + '  useful:'+str(item['useful']) + '  date:' +str(item['date']) )\n",
    "            out.append(html.Br())\n",
    "            out.append(html.Br())\n",
    "            out.append(item['text'])\n",
    "            out.append(html.Br())\n",
    "            out.append(html.Br())\n",
    "    return out\n",
    "app = dash.Dash('Hello World')\n",
    "\n",
    "app.layout = html.Div([\n",
    "    dcc.Dropdown(\n",
    "        id='my-dropdown',\n",
    "        options=options,\n",
    "        value=''\n",
    "    ),\n",
    "    html.Br(),\n",
    "    html.Div([\n",
    "        dcc.Markdown('''Positive Review'''),\n",
    "        dcc.RadioItems(\n",
    "            id='sort_pos',\n",
    "            options=[\n",
    "                {'label': 'Sort by useful', 'value': 'useful'},\n",
    "                {'label': 'Sort by date', 'value': 'date'}\n",
    "            ],value='useful'\n",
    "        )], style={'width': '48%', 'float': 'left', 'display': 'inline-block'}\n",
    "            ),\n",
    "    html.Div([\n",
    "        dcc.Markdown('''Negative Review'''),\n",
    "        dcc.RadioItems(\n",
    "            id='sort_neg',\n",
    "            options=[\n",
    "                {'label': 'Sort by useful', 'value': 'useful'},\n",
    "                {'label': 'Sort by date', 'value': 'date'}\n",
    "            ],value='useful'\n",
    "        )], style={'width': '48%', 'float': 'right', 'display': 'inline-block'}\n",
    "            ),\n",
    "    html.Br(),\n",
    "    html.Div(id='result_pos', style={'width': '48%', 'float': 'left', 'display': 'inline-block'}\n",
    "            ),\n",
    "    html.Div(id='result_neg', style={'width': '48%', 'float': 'right', 'display': 'inline-block'}\n",
    "            )\n",
    "])\n",
    "@app.callback(Output('result_pos', 'children'), [Input('my-dropdown', 'value'), Input('sort_pos', 'value')])\n",
    "def update_result_pos(x, sort):\n",
    "    return update_result(x, review_near_pos, sort)\n",
    "@app.callback(Output('result_neg', 'children'), [Input('my-dropdown', 'value'), Input('sort_neg', 'value')])\n",
    "def update_result_neg(x, sort):\n",
    "    return update_result(x, review_near_neg, sort)\n",
    "    if anyy == 0:\n",
    "        out.append('No Match')\n",
    "    return out\n",
    "if __name__ == '__main__':\n",
    "    app.run_server()"
   ]
  },
  {
   "cell_type": "code",
   "execution_count": null,
   "id": "8affa15f",
   "metadata": {},
   "outputs": [],
   "source": []
  }
 ],
 "metadata": {
  "kernelspec": {
   "display_name": "Python 3 (ipykernel)",
   "language": "python",
   "name": "python3"
  },
  "language_info": {
   "codemirror_mode": {
    "name": "ipython",
    "version": 3
   },
   "file_extension": ".py",
   "mimetype": "text/x-python",
   "name": "python",
   "nbconvert_exporter": "python",
   "pygments_lexer": "ipython3",
   "version": "3.9.7"
  }
 },
 "nbformat": 4,
 "nbformat_minor": 5
}
